{
 "cells": [
  {
   "cell_type": "markdown",
   "metadata": {},
   "source": [
    "## Crawler for Yelp Reviews"
   ]
  },
  {
   "cell_type": "code",
   "execution_count": 1,
   "metadata": {},
   "outputs": [],
   "source": [
    "import time\n",
    "import pandas as pd\n",
    "import os\n",
    "\n",
    "# packages to scrap content from web pages\n",
    "import selenium\n",
    "from selenium import webdriver\n",
    "from selenium.webdriver.firefox.firefox_binary import FirefoxBinary\n",
    "from selenium.webdriver.common.by import By\n",
    "from selenium.webdriver.common.keys import Keys\n",
    "from selenium.common.exceptions import NoSuchElementException, TimeoutException\n",
    "from selenium.webdriver.support import expected_conditions as EC\n",
    "from selenium.webdriver.support.ui import WebDriverWait\n",
    "\n",
    "# interpretation of html \n",
    "from bs4 import BeautifulSoup"
   ]
  },
  {
   "cell_type": "markdown",
   "metadata": {},
   "source": [
    "#### Constants"
   ]
  },
  {
   "cell_type": "code",
   "execution_count": 2,
   "metadata": {},
   "outputs": [],
   "source": [
    "URL_BODY = \"https://www.yelp.com/search?find_desc=$1&find_loc=$2&start=$3\"\n",
    "RESULT_PATH = r\"./\"\n",
    "RESULT_FILE = r\"yelp_restaurants.csv\""
   ]
  },
  {
   "cell_type": "markdown",
   "metadata": {},
   "source": [
    "#### entities to crawl"
   ]
  },
  {
   "cell_type": "code",
   "execution_count": 3,
   "metadata": {},
   "outputs": [],
   "source": [
    "l_search_entities = [\"Chick-fil-A\", \"Chipotle Mexican Grill\", \"Burger King\", \"KFC\", \"McDonald’s\", \"Subway Restaurants\", \"Taco Bell\",\n",
    "\"Wendy’s\", \"Dunkin’\", \"Papa John’s Pizza\", \"Pizza+Hut\", \"Starbucks\", \"Applebee’s+Grill+%2B+Bar\", \"Olive Garden Italian Restaurant\"\n",
    "]\n",
    "\n",
    "l_search_entities = [\n",
    "\"Dunkin’\", \"Papa John’s Pizza\", \"Pizza+Hut\", \"Starbucks\", \"Applebee’s+Grill+%2B+Bar\", \"Olive Garden Italian Restaurant\"\n",
    "]\n",
    "\n",
    "d_places = {'New York': 'New+York%2C+NY%2C+Vereinigte+Staaten', 'Los Angeles': 'Los Angeles%2C CA', 'Chicago': 'Chicago%2C IL', 'Houston': 'Houston%2C TX', 'Phoenix': 'Phoenix%2C AZ', 'Philadelphia': 'Philadelphia%2C PA', 'San Antonio': 'San Antonio%2C TX', 'San Diego': 'San Diego%2C CA', 'Dallas': 'Dallas%2C TX', 'San Jose': 'San Jose%2C CA', 'Austin': 'Austin%2C TX', 'Jacksonville': 'Jacksonville%2C FL', 'Fort Worth': 'Fort Worth%2C TX', 'Columbus': 'Columbus%2C OH', 'San Francisco': 'San Francisco%2C CA',\n",
    "'Charlotte': 'Charlotte%2C NC', 'Indianapolis': 'Indianapolis%2C IN', 'Seattle': 'Seattle%2C WA', 'Denver': 'Denver%2C CO', 'Washington': 'Washington%2C DC', 'Boston': 'Boston%2C MA', 'El Paso': 'El Paso%2C TX', 'Detroit': 'Detroit%2C MI', 'Nashville': 'Nashville%2C TN', 'Portland': 'Portland%2C OR', 'Memphis': 'Memphis%2C TN', 'Oklahoma City': 'Oklahoma City%2C OK', \n",
    "'Las Vegas': 'Las Vegas%2C NV', 'Louisville': 'Louisville%2C KY', 'Baltimore': 'Baltimore%2C MD', 'Milwaukee': 'Milwaukee%2C WI', 'Albuquerque': 'Albuquerque%2C NM', 'Tucson': 'Tucson%2C AZ', 'Fresno': 'Fresno%2C CA', 'Mesa': 'Mesa%2C AZ', \n",
    "'Sacramento': 'Sacramento%2C CA', 'Atlanta': 'Atlanta%2C GA', 'Kansas City': 'Kansas City%2C MO', 'Colorado Springs': 'Colorado Springs%2C CO', 'Miami': 'Miami%2C FL', 'Raleigh': 'Raleigh%2C NC', 'Omaha': 'Omaha%2C NE', \n",
    "'Long Beach': 'Long Beach%2C CA', 'Virginia Beach': 'Virginia Beach%2C VA', 'Oakland': 'Oakland%2C CA', 'Minneapolis': 'Minneapolis%2C MN', 'Tulsa': 'Tulsa%2C OK', 'Tampa': 'Tampa%2C FL', 'New Orleans': 'New Orleans%2C LA'\n",
    "}"
   ]
  },
  {
   "cell_type": "markdown",
   "metadata": {},
   "source": [
    "#### init driver "
   ]
  },
  {
   "cell_type": "code",
   "execution_count": 4,
   "metadata": {},
   "outputs": [],
   "source": [
    "#driver = webdriver.Chrome(r\"P:\\chromedriver_win32\\chromedriver.exe\")\n",
    "driver = webdriver.Chrome(r\"C:/chromedriver.exe\")\n",
    "\n",
    "driver.implicitly_wait(5)\n"
   ]
  },
  {
   "cell_type": "markdown",
   "metadata": {},
   "source": [
    "#### Init lists of result data"
   ]
  },
  {
   "cell_type": "code",
   "execution_count": 5,
   "metadata": {},
   "outputs": [],
   "source": [
    "l_link = []\n",
    "l_restaurant = []\n",
    "l_place = []\n",
    "l_rating = []\n",
    "l_date = []\n",
    "l_text = []"
   ]
  },
  {
   "cell_type": "markdown",
   "metadata": {},
   "source": [
    "#### Function to crawl links from restaurants from overview page\n",
    "**input:** name of restaurant like 'Subway' (**string**), location like 'Boston' (**string**) <br>\n",
    "**output:** list of links to all found items"
   ]
  },
  {
   "cell_type": "code",
   "execution_count": 6,
   "metadata": {},
   "outputs": [],
   "source": [
    "def get_items(item_name, place):\n",
    "    l_links = []\n",
    "    \n",
    "    while True:\n",
    "        driver.get(URL_BODY.replace(\"$1\", item_name).replace(\"$2\", place).replace(\"$3\", str(len(l_links))))\n",
    "        time.sleep(1)\n",
    "        soup = BeautifulSoup(driver.page_source, features=\"html.parser\")\n",
    "\n",
    "        items = soup.select('a[class=\"css-1422juy\"]')\n",
    "\n",
    "        items = list(filter(lambda x: x.has_attr('name') and x['name'] == item_name, items))\n",
    "        \n",
    "        if len(items) == 0: break\n",
    "\n",
    "        new_links = list(map(lambda x : x['href'], items))\n",
    "        l_links += new_links\n",
    "\n",
    "    return l_links\n",
    "    "
   ]
  },
  {
   "cell_type": "markdown",
   "metadata": {},
   "source": [
    "#### Testing (not mandatory to execute)"
   ]
  },
  {
   "cell_type": "code",
   "execution_count": 7,
   "metadata": {},
   "outputs": [
    {
     "name": "stdout",
     "output_type": "stream",
     "text": [
      "['/biz/mcdonalds-los-angeles-114?osq=McDonald%27s', '/biz/mcdonalds-los-angeles-106?osq=McDonald%27s', '/biz/mcdonalds-los-angeles-38?osq=McDonald%27s', '/biz/mcdonalds-los-angeles-43?osq=McDonald%27s', '/biz/mcdonalds-los-angeles-43?osq=McDonald%27s']\n"
     ]
    }
   ],
   "source": [
    "restaurants = get_items(\"McDonald’s\", 'Los Angeles%2C CA')\n",
    "print(restaurants)"
   ]
  },
  {
   "cell_type": "markdown",
   "metadata": {},
   "source": [
    "#### Function to crawl reviews to a single item\n",
    "**input:** link to a certain restaurant/ item (**string**) (provided by function 'get_items()' above) <br>\n",
    "**output:** list of lists of rating, comment and date"
   ]
  },
  {
   "cell_type": "code",
   "execution_count": 19,
   "metadata": {},
   "outputs": [],
   "source": [
    "from tqdm import tqdm\n",
    "from selenium.common.exceptions import StaleElementReferenceException, ElementClickInterceptedException\n",
    "\n",
    "\n",
    "def handle_reviews(link):\n",
    "    driver.get(\"https://www.yelp.com%s&sort_by=date_desc\" % link)\n",
    "    \n",
    "    time.sleep(1)\n",
    "\n",
    "    l_ratings = []\n",
    "    l_comments = []\n",
    "    l_dates = []\n",
    "\n",
    "    page = 1\n",
    "    while True:\n",
    "        time.sleep(1)\n",
    "        soup = BeautifulSoup(driver.page_source, features=\"html.parser\")\n",
    "        section_ratings = soup.select('section[class=\"margin-t4__09f24__G0VVf padding-t4__09f24__Y6aGL border--top__09f24__exYYb border-color--default__09f24__NPAKY\"]')\n",
    "\n",
    "        if not section_ratings:\n",
    "            print('no selection_ratings')\n",
    "            return [l_ratings, l_dates, l_comments]\n",
    "\n",
    "        # print(f'Comment page {page}, length of section ratings: {len(section_ratings)}')\n",
    "        for i in range(len(section_ratings)):\n",
    "            soup_ratings = BeautifulSoup(str(section_ratings[i]), features=\"html.parser\")\n",
    "            if not soup_ratings:\n",
    "                continue\n",
    "\n",
    "            ratings = soup_ratings.select('div[class=\"review__09f24__oHr9V border-color--default__09f24__NPAKY\"]')\n",
    "            if not ratings:\n",
    "                continue\n",
    "            # print(f'length of ratings: {len(ratings)}')\n",
    "            for j in range(len(ratings)):\n",
    "                # print(ratings[i])\n",
    "                soup_detail = BeautifulSoup(str(ratings[j]), features=\"html.parser\")\n",
    "\n",
    "                if soup_detail is None:\n",
    "                    continue\n",
    "\n",
    "                rating = soup_detail.select_one('div[class*=\"i-stars__09f24__foihJ\"]')\n",
    "                rating = rating['aria-label'] if rating else ''\n",
    "\n",
    "                comment = soup_detail.select_one('span[class*=\"raw__09f24__T4Ezm\"]')\n",
    "                comment = comment.text if comment else ''\n",
    "\n",
    "                date = soup_detail.select_one('span[class*=\"css-1e4fdj9\"]')\n",
    "                date = date.text if date else ''\n",
    "\n",
    "                l_ratings.append(str(rating))\n",
    "                l_comments.append(str(comment))\n",
    "                l_dates.append(str(date))\n",
    "\n",
    "        try:\n",
    "            next_comment_page = driver.find_element_by_css_selector('a[class*=\"next-link navigation-button__09f24__m9qRz\"]')\n",
    "        except NoSuchElementException:\n",
    "            break\n",
    "\n",
    "        try:\n",
    "            next_comment_page.click()\n",
    "            page += 1\n",
    "        except ElementClickInterceptedException or StaleElementReferenceException:\n",
    "            break\n",
    "        \n",
    "    \n",
    "    return [l_ratings, l_dates, l_comments]"
   ]
  },
  {
   "cell_type": "code",
   "execution_count": 10,
   "outputs": [
    {
     "name": "stdout",
     "output_type": "stream",
     "text": [
      "i rarely have fast food, so i'm rarely here (tho sometimes i do crave a big mac here&there- tho i really don't indulge), buttttt i DO luv their soft serve cones (which i order 2 at a time) &that's why i will give micky d's 3stars!\n"
     ]
    }
   ],
   "source": [
    "test_review = handle_reviews(restaurants[1])\n",
    "print(test_review[2][-2])"
   ],
   "metadata": {
    "collapsed": false,
    "pycharm": {
     "name": "#%%\n"
    }
   }
  },
  {
   "cell_type": "markdown",
   "metadata": {},
   "source": [
    "#### Function to read already handled links"
   ]
  },
  {
   "cell_type": "code",
   "execution_count": 20,
   "outputs": [],
   "source": [
    "def get_list_of_handled_links():\n",
    "    if not os.path.exists(RESULT_PATH + RESULT_FILE):\n",
    "        # df_temp = pd.DataFrame()\n",
    "        # df_temp.to_csv(columns=['link', 'restaurant', 'place', 'rating', 'date', 'comment'])\n",
    "        return None\n",
    "    df = pd.read_csv(RESULT_FILE, header=0, encoding = \"ISO-8859-1\")\n",
    "    if \"link\" in df:\n",
    "        return df[\"link\"].tolist()\n",
    "    else:\n",
    "        return None"
   ],
   "metadata": {
    "collapsed": false,
    "pycharm": {
     "name": "#%%\n"
    }
   }
  },
  {
   "cell_type": "markdown",
   "metadata": {},
   "source": [
    "#### Main "
   ]
  },
  {
   "cell_type": "code",
   "execution_count": null,
   "metadata": {
    "pycharm": {
     "is_executing": true
    }
   },
   "outputs": [
    {
     "name": "stdout",
     "output_type": "stream",
     "text": [
      "Handled reviews length: 8481\n",
      "{'Los Angeles': 'Los Angeles%2C CA', 'Chicago': 'Chicago%2C IL', 'Houston': 'Houston%2C TX', 'Phoenix': 'Phoenix%2C AZ', 'Philadelphia': 'Philadelphia%2C PA', 'San Antonio': 'San Antonio%2C TX', 'San Diego': 'San Diego%2C CA', 'Dallas': 'Dallas%2C TX', 'San Jose': 'San Jose%2C CA', 'Austin': 'Austin%2C TX', 'Jacksonville': 'Jacksonville%2C FL', 'Fort Worth': 'Fort Worth%2C TX', 'Columbus': 'Columbus%2C OH', 'San Francisco': 'San Francisco%2C CA', 'Charlotte': 'Charlotte%2C NC', 'Indianapolis': 'Indianapolis%2C IN', 'Seattle': 'Seattle%2C WA', 'Denver': 'Denver%2C CO', 'Washington': 'Washington%2C DC', 'Boston': 'Boston%2C MA', 'El Paso': 'El Paso%2C TX', 'Detroit': 'Detroit%2C MI', 'Nashville': 'Nashville%2C TN', 'Portland': 'Portland%2C OR', 'Memphis': 'Memphis%2C TN', 'Oklahoma City': 'Oklahoma City%2C OK', 'Las Vegas': 'Las Vegas%2C NV', 'Louisville': 'Louisville%2C KY', 'Baltimore': 'Baltimore%2C MD', 'Milwaukee': 'Milwaukee%2C WI', 'Albuquerque': 'Albuquerque%2C NM', 'Tucson': 'Tucson%2C AZ', 'Fresno': 'Fresno%2C CA', 'Mesa': 'Mesa%2C AZ', 'Sacramento': 'Sacramento%2C CA', 'Atlanta': 'Atlanta%2C GA', 'Kansas City': 'Kansas City%2C MO', 'Colorado Springs': 'Colorado Springs%2C CO', 'Miami': 'Miami%2C FL', 'Raleigh': 'Raleigh%2C NC', 'Omaha': 'Omaha%2C NE', 'Long Beach': 'Long Beach%2C CA', 'Virginia Beach': 'Virginia Beach%2C VA', 'Oakland': 'Oakland%2C CA', 'Minneapolis': 'Minneapolis%2C MN', 'Tulsa': 'Tulsa%2C OK', 'Tampa': 'Tampa%2C FL', 'New Orleans': 'New Orleans%2C LA'}\n"
     ]
    }
   ],
   "source": [
    "handled_links = get_list_of_handled_links()\n",
    "print(f'Handled reviews length: {len(handled_links)}')\n",
    "\n",
    "finished_cities = ['New York']\n",
    "for item in finished_cities:\n",
    "    if item in d_places:\n",
    "        del d_places[item]\n",
    "print(d_places)\n",
    "\n",
    "\n",
    "for item in l_search_entities:\n",
    "    \n",
    "    for place in d_places:\n",
    "        # first, get all restaurant links\n",
    "        links = get_items(item, d_places[place])\n",
    "\n",
    "        if handled_links:\n",
    "            links_filtered = list(filter(lambda x: x not in handled_links, links))\n",
    "        else:\n",
    "            links_filtered = list(links)\n",
    "            \n",
    "        for link in links_filtered:\n",
    "            try:\n",
    "                # then, get (rating, comments, date)\n",
    "                l_results = handle_reviews(link)\n",
    "            except IndexError:\n",
    "                continue\n",
    "            \n",
    "            l_link += [link] * len(l_results[0])\n",
    "            l_restaurant += [item] * len(l_results[0])\n",
    "            l_place += [place] * len(l_results[0])\n",
    "            l_rating += l_results[0]\n",
    "            l_date += l_results[1]\n",
    "            l_text += l_results[2]\n",
    "                \n",
    "\n",
    "        print(\"%s - %s, %d restaurants (%d already handled)\"\n",
    "              % (item, place, len(links), len(links) - len(links_filtered)))\n",
    "    "
   ]
  },
  {
   "cell_type": "markdown",
   "metadata": {},
   "source": [
    "#### Building DataFrame of crawled data"
   ]
  },
  {
   "cell_type": "code",
   "execution_count": 14,
   "metadata": {},
   "outputs": [],
   "source": [
    "df_grid = pd.DataFrame()\n",
    "\n",
    "\n",
    "df_grid[\"link\"] = l_link\n",
    "df_grid[\"restaurant\"] = l_restaurant\n",
    "df_grid[\"place\"] = l_place\n",
    "df_grid[\"rating\"] = l_rating\n",
    "df_grid[\"date\"] = l_date\n",
    "df_grid[\"comment\"] = l_text\n",
    "\n",
    "df_grid.to_csv(RESULT_PATH + RESULT_FILE)\n"
   ]
  },
  {
   "cell_type": "markdown",
   "metadata": {},
   "source": [
    "#### Visualize results"
   ]
  },
  {
   "cell_type": "code",
   "execution_count": 16,
   "metadata": {},
   "outputs": [
    {
     "data": {
      "text/plain": "['/adredir?ad_business_id=tXWkZsgqEnAGhMJNquO7jQ&campaign_id=1C8TJwFBoYAtdi6QnFSxrw&click_origin=search_results&placement=above_search&placement_slot=0&redirect_url=https%3A%2F%2Fwww.yelp.com%2Fbiz%2Fdunkin-new-york-131&request_id=92af0fc9c188bde9&signature=65f5765de60b8bbf99004613ab64382ff50168e03ac341c1c09ea3c54f29f6d1&slot=0',\n '/adredir?ad_business_id=tXWkZsgqEnAGhMJNquO7jQ&campaign_id=1C8TJwFBoYAtdi6QnFSxrw&click_origin=search_results&placement=above_search&placement_slot=0&redirect_url=https%3A%2F%2Fwww.yelp.com%2Fbiz%2Fdunkin-new-york-131&request_id=92af0fc9c188bde9&signature=65f5765de60b8bbf99004613ab64382ff50168e03ac341c1c09ea3c54f29f6d1&slot=0',\n '/adredir?ad_business_id=tXWkZsgqEnAGhMJNquO7jQ&campaign_id=1C8TJwFBoYAtdi6QnFSxrw&click_origin=search_results&placement=above_search&placement_slot=0&redirect_url=https%3A%2F%2Fwww.yelp.com%2Fbiz%2Fdunkin-new-york-131&request_id=92af0fc9c188bde9&signature=65f5765de60b8bbf99004613ab64382ff50168e03ac341c1c09ea3c54f29f6d1&slot=0',\n '/adredir?ad_business_id=tXWkZsgqEnAGhMJNquO7jQ&campaign_id=1C8TJwFBoYAtdi6QnFSxrw&click_origin=search_results&placement=above_search&placement_slot=0&redirect_url=https%3A%2F%2Fwww.yelp.com%2Fbiz%2Fdunkin-new-york-131&request_id=92af0fc9c188bde9&signature=65f5765de60b8bbf99004613ab64382ff50168e03ac341c1c09ea3c54f29f6d1&slot=0',\n '/adredir?ad_business_id=tXWkZsgqEnAGhMJNquO7jQ&campaign_id=1C8TJwFBoYAtdi6QnFSxrw&click_origin=search_results&placement=above_search&placement_slot=0&redirect_url=https%3A%2F%2Fwww.yelp.com%2Fbiz%2Fdunkin-new-york-131&request_id=92af0fc9c188bde9&signature=65f5765de60b8bbf99004613ab64382ff50168e03ac341c1c09ea3c54f29f6d1&slot=0',\n '/adredir?ad_business_id=tXWkZsgqEnAGhMJNquO7jQ&campaign_id=1C8TJwFBoYAtdi6QnFSxrw&click_origin=search_results&placement=above_search&placement_slot=0&redirect_url=https%3A%2F%2Fwww.yelp.com%2Fbiz%2Fdunkin-new-york-131&request_id=92af0fc9c188bde9&signature=65f5765de60b8bbf99004613ab64382ff50168e03ac341c1c09ea3c54f29f6d1&slot=0',\n '/adredir?ad_business_id=tXWkZsgqEnAGhMJNquO7jQ&campaign_id=1C8TJwFBoYAtdi6QnFSxrw&click_origin=search_results&placement=above_search&placement_slot=0&redirect_url=https%3A%2F%2Fwww.yelp.com%2Fbiz%2Fdunkin-new-york-131&request_id=92af0fc9c188bde9&signature=65f5765de60b8bbf99004613ab64382ff50168e03ac341c1c09ea3c54f29f6d1&slot=0',\n '/adredir?ad_business_id=tXWkZsgqEnAGhMJNquO7jQ&campaign_id=1C8TJwFBoYAtdi6QnFSxrw&click_origin=search_results&placement=above_search&placement_slot=0&redirect_url=https%3A%2F%2Fwww.yelp.com%2Fbiz%2Fdunkin-new-york-131&request_id=92af0fc9c188bde9&signature=65f5765de60b8bbf99004613ab64382ff50168e03ac341c1c09ea3c54f29f6d1&slot=0',\n '/adredir?ad_business_id=tXWkZsgqEnAGhMJNquO7jQ&campaign_id=1C8TJwFBoYAtdi6QnFSxrw&click_origin=search_results&placement=above_search&placement_slot=0&redirect_url=https%3A%2F%2Fwww.yelp.com%2Fbiz%2Fdunkin-new-york-131&request_id=92af0fc9c188bde9&signature=65f5765de60b8bbf99004613ab64382ff50168e03ac341c1c09ea3c54f29f6d1&slot=0',\n '/adredir?ad_business_id=tXWkZsgqEnAGhMJNquO7jQ&campaign_id=1C8TJwFBoYAtdi6QnFSxrw&click_origin=search_results&placement=above_search&placement_slot=0&redirect_url=https%3A%2F%2Fwww.yelp.com%2Fbiz%2Fdunkin-new-york-131&request_id=92af0fc9c188bde9&signature=65f5765de60b8bbf99004613ab64382ff50168e03ac341c1c09ea3c54f29f6d1&slot=0',\n '/adredir?ad_business_id=tXWkZsgqEnAGhMJNquO7jQ&campaign_id=1C8TJwFBoYAtdi6QnFSxrw&click_origin=search_results&placement=above_search&placement_slot=0&redirect_url=https%3A%2F%2Fwww.yelp.com%2Fbiz%2Fdunkin-new-york-131&request_id=92af0fc9c188bde9&signature=65f5765de60b8bbf99004613ab64382ff50168e03ac341c1c09ea3c54f29f6d1&slot=0',\n '/adredir?ad_business_id=tXWkZsgqEnAGhMJNquO7jQ&campaign_id=1C8TJwFBoYAtdi6QnFSxrw&click_origin=search_results&placement=above_search&placement_slot=0&redirect_url=https%3A%2F%2Fwww.yelp.com%2Fbiz%2Fdunkin-new-york-131&request_id=92af0fc9c188bde9&signature=65f5765de60b8bbf99004613ab64382ff50168e03ac341c1c09ea3c54f29f6d1&slot=0',\n '/adredir?ad_business_id=tXWkZsgqEnAGhMJNquO7jQ&campaign_id=1C8TJwFBoYAtdi6QnFSxrw&click_origin=search_results&placement=above_search&placement_slot=0&redirect_url=https%3A%2F%2Fwww.yelp.com%2Fbiz%2Fdunkin-new-york-131&request_id=92af0fc9c188bde9&signature=65f5765de60b8bbf99004613ab64382ff50168e03ac341c1c09ea3c54f29f6d1&slot=0',\n '/adredir?ad_business_id=tXWkZsgqEnAGhMJNquO7jQ&campaign_id=1C8TJwFBoYAtdi6QnFSxrw&click_origin=search_results&placement=above_search&placement_slot=0&redirect_url=https%3A%2F%2Fwww.yelp.com%2Fbiz%2Fdunkin-new-york-131&request_id=92af0fc9c188bde9&signature=65f5765de60b8bbf99004613ab64382ff50168e03ac341c1c09ea3c54f29f6d1&slot=0',\n '/adredir?ad_business_id=tXWkZsgqEnAGhMJNquO7jQ&campaign_id=1C8TJwFBoYAtdi6QnFSxrw&click_origin=search_results&placement=above_search&placement_slot=0&redirect_url=https%3A%2F%2Fwww.yelp.com%2Fbiz%2Fdunkin-new-york-131&request_id=92af0fc9c188bde9&signature=65f5765de60b8bbf99004613ab64382ff50168e03ac341c1c09ea3c54f29f6d1&slot=0',\n '/adredir?ad_business_id=tXWkZsgqEnAGhMJNquO7jQ&campaign_id=1C8TJwFBoYAtdi6QnFSxrw&click_origin=search_results&placement=above_search&placement_slot=0&redirect_url=https%3A%2F%2Fwww.yelp.com%2Fbiz%2Fdunkin-new-york-131&request_id=92af0fc9c188bde9&signature=65f5765de60b8bbf99004613ab64382ff50168e03ac341c1c09ea3c54f29f6d1&slot=0',\n '/adredir?ad_business_id=tXWkZsgqEnAGhMJNquO7jQ&campaign_id=1C8TJwFBoYAtdi6QnFSxrw&click_origin=search_results&placement=above_search&placement_slot=0&redirect_url=https%3A%2F%2Fwww.yelp.com%2Fbiz%2Fdunkin-new-york-131&request_id=92af0fc9c188bde9&signature=65f5765de60b8bbf99004613ab64382ff50168e03ac341c1c09ea3c54f29f6d1&slot=0',\n '/adredir?ad_business_id=tXWkZsgqEnAGhMJNquO7jQ&campaign_id=1C8TJwFBoYAtdi6QnFSxrw&click_origin=search_results&placement=above_search&placement_slot=0&redirect_url=https%3A%2F%2Fwww.yelp.com%2Fbiz%2Fdunkin-new-york-131&request_id=92af0fc9c188bde9&signature=65f5765de60b8bbf99004613ab64382ff50168e03ac341c1c09ea3c54f29f6d1&slot=0',\n '/adredir?ad_business_id=tXWkZsgqEnAGhMJNquO7jQ&campaign_id=1C8TJwFBoYAtdi6QnFSxrw&click_origin=search_results&placement=above_search&placement_slot=0&redirect_url=https%3A%2F%2Fwww.yelp.com%2Fbiz%2Fdunkin-new-york-131&request_id=92af0fc9c188bde9&signature=65f5765de60b8bbf99004613ab64382ff50168e03ac341c1c09ea3c54f29f6d1&slot=0',\n '/adredir?ad_business_id=tXWkZsgqEnAGhMJNquO7jQ&campaign_id=1C8TJwFBoYAtdi6QnFSxrw&click_origin=search_results&placement=above_search&placement_slot=0&redirect_url=https%3A%2F%2Fwww.yelp.com%2Fbiz%2Fdunkin-new-york-131&request_id=92af0fc9c188bde9&signature=65f5765de60b8bbf99004613ab64382ff50168e03ac341c1c09ea3c54f29f6d1&slot=0',\n '/adredir?ad_business_id=tXWkZsgqEnAGhMJNquO7jQ&campaign_id=1C8TJwFBoYAtdi6QnFSxrw&click_origin=search_results&placement=above_search&placement_slot=0&redirect_url=https%3A%2F%2Fwww.yelp.com%2Fbiz%2Fdunkin-new-york-131&request_id=92af0fc9c188bde9&signature=65f5765de60b8bbf99004613ab64382ff50168e03ac341c1c09ea3c54f29f6d1&slot=0',\n '/adredir?ad_business_id=tXWkZsgqEnAGhMJNquO7jQ&campaign_id=1C8TJwFBoYAtdi6QnFSxrw&click_origin=search_results&placement=above_search&placement_slot=0&redirect_url=https%3A%2F%2Fwww.yelp.com%2Fbiz%2Fdunkin-new-york-131&request_id=92af0fc9c188bde9&signature=65f5765de60b8bbf99004613ab64382ff50168e03ac341c1c09ea3c54f29f6d1&slot=0',\n '/biz/dunkin-new-york-78?osq=Dunkin%27',\n '/biz/dunkin-new-york-78?osq=Dunkin%27',\n '/biz/dunkin-new-york-78?osq=Dunkin%27',\n '/biz/dunkin-new-york-78?osq=Dunkin%27',\n '/biz/dunkin-new-york-78?osq=Dunkin%27',\n '/biz/dunkin-new-york-78?osq=Dunkin%27',\n '/biz/dunkin-new-york-78?osq=Dunkin%27',\n '/biz/dunkin-new-york-78?osq=Dunkin%27',\n '/biz/dunkin-new-york-78?osq=Dunkin%27',\n '/biz/dunkin-new-york-78?osq=Dunkin%27',\n '/biz/dunkin-new-york-78?osq=Dunkin%27',\n '/biz/dunkin-new-york-78?osq=Dunkin%27',\n '/biz/dunkin-new-york-78?osq=Dunkin%27',\n '/biz/dunkin-new-york-78?osq=Dunkin%27',\n '/biz/dunkin-new-york-139?osq=Dunkin%27',\n '/biz/dunkin-new-york-139?osq=Dunkin%27',\n '/biz/dunkin-new-york-139?osq=Dunkin%27',\n '/biz/dunkin-new-york-139?osq=Dunkin%27',\n '/biz/dunkin-new-york-139?osq=Dunkin%27',\n '/biz/dunkin-new-york-139?osq=Dunkin%27',\n '/biz/dunkin-new-york-139?osq=Dunkin%27',\n '/biz/dunkin-new-york-139?osq=Dunkin%27',\n '/biz/dunkin-new-york-139?osq=Dunkin%27',\n '/biz/dunkin-new-york-139?osq=Dunkin%27',\n '/biz/dunkin-new-york-139?osq=Dunkin%27',\n '/biz/dunkin-new-york-139?osq=Dunkin%27',\n '/biz/dunkin-new-york-139?osq=Dunkin%27',\n '/biz/dunkin-new-york-139?osq=Dunkin%27',\n '/biz/dunkin-new-york-139?osq=Dunkin%27',\n '/biz/dunkin-new-york-139?osq=Dunkin%27',\n '/biz/dunkin-new-york-164?osq=Dunkin%27',\n '/biz/dunkin-new-york-164?osq=Dunkin%27',\n '/biz/dunkin-new-york-164?osq=Dunkin%27',\n '/biz/dunkin-new-york-164?osq=Dunkin%27',\n '/biz/dunkin-new-york-164?osq=Dunkin%27',\n '/biz/dunkin-new-york-164?osq=Dunkin%27',\n '/biz/dunkin-new-york-164?osq=Dunkin%27',\n '/biz/dunkin-new-york-164?osq=Dunkin%27',\n '/biz/dunkin-new-york-164?osq=Dunkin%27',\n '/biz/dunkin-new-york-164?osq=Dunkin%27',\n '/biz/dunkin-new-york-164?osq=Dunkin%27',\n '/biz/dunkin-new-york-164?osq=Dunkin%27',\n '/biz/dunkin-new-york-164?osq=Dunkin%27',\n '/biz/dunkin-new-york-164?osq=Dunkin%27',\n '/biz/dunkin-new-york-164?osq=Dunkin%27',\n '/biz/dunkin-new-york-164?osq=Dunkin%27',\n '/biz/dunkin-brooklyn-79?osq=Dunkin%27',\n '/biz/dunkin-brooklyn-79?osq=Dunkin%27',\n '/biz/dunkin-brooklyn-79?osq=Dunkin%27',\n '/biz/dunkin-brooklyn-79?osq=Dunkin%27',\n '/biz/dunkin-brooklyn-79?osq=Dunkin%27',\n '/biz/dunkin-brooklyn-79?osq=Dunkin%27',\n '/biz/dunkin-brooklyn-79?osq=Dunkin%27',\n '/biz/dunkin-brooklyn-79?osq=Dunkin%27',\n '/biz/dunkin-brooklyn-79?osq=Dunkin%27',\n '/biz/dunkin-brooklyn-79?osq=Dunkin%27',\n '/biz/dunkin-brooklyn-79?osq=Dunkin%27',\n '/biz/dunkin-brooklyn-79?osq=Dunkin%27',\n '/biz/dunkin-brooklyn-79?osq=Dunkin%27',\n '/biz/dunkin-brooklyn-79?osq=Dunkin%27',\n '/biz/dunkin-brooklyn-79?osq=Dunkin%27',\n '/biz/dunkin-brooklyn-79?osq=Dunkin%27',\n '/biz/dunkin-brooklyn-79?osq=Dunkin%27',\n '/biz/dunkin-brooklyn-79?osq=Dunkin%27',\n '/biz/dunkin-brooklyn-79?osq=Dunkin%27',\n '/biz/dunkin-brooklyn-79?osq=Dunkin%27',\n '/biz/dunkin-brooklyn-79?osq=Dunkin%27',\n '/biz/dunkin-brooklyn-79?osq=Dunkin%27',\n '/biz/dunkin-brooklyn-79?osq=Dunkin%27',\n '/biz/dunkin-brooklyn-79?osq=Dunkin%27',\n '/biz/dunkin-brooklyn-79?osq=Dunkin%27',\n '/biz/dunkin-brooklyn-79?osq=Dunkin%27',\n '/biz/dunkin-brooklyn-79?osq=Dunkin%27',\n '/biz/dunkin-brooklyn-79?osq=Dunkin%27',\n '/biz/dunkin-brooklyn-79?osq=Dunkin%27',\n '/biz/dunkin-brooklyn-79?osq=Dunkin%27',\n '/biz/dunkin-brooklyn-79?osq=Dunkin%27',\n '/biz/dunkin-brooklyn-79?osq=Dunkin%27',\n '/biz/dunkin-brooklyn-79?osq=Dunkin%27',\n '/biz/dunkin-brooklyn-79?osq=Dunkin%27',\n '/biz/dunkin-brooklyn-79?osq=Dunkin%27',\n '/biz/dunkin-brooklyn-79?osq=Dunkin%27',\n '/biz/dunkin-brooklyn-79?osq=Dunkin%27',\n '/biz/dunkin-brooklyn-79?osq=Dunkin%27',\n '/biz/dunkin-brooklyn-79?osq=Dunkin%27',\n '/biz/dunkin-brooklyn-79?osq=Dunkin%27',\n '/biz/dunkin-brooklyn-79?osq=Dunkin%27',\n '/biz/dunkin-brooklyn-79?osq=Dunkin%27',\n '/biz/dunkin-new-york-59?osq=Dunkin%27',\n '/biz/dunkin-new-york-59?osq=Dunkin%27',\n '/biz/dunkin-new-york-59?osq=Dunkin%27',\n '/biz/dunkin-new-york-59?osq=Dunkin%27',\n '/biz/dunkin-new-york-59?osq=Dunkin%27',\n '/biz/dunkin-new-york-59?osq=Dunkin%27',\n '/biz/dunkin-new-york-59?osq=Dunkin%27',\n '/biz/dunkin-new-york-59?osq=Dunkin%27',\n '/biz/dunkin-new-york-59?osq=Dunkin%27',\n '/biz/dunkin-new-york-59?osq=Dunkin%27',\n '/biz/dunkin-new-york-59?osq=Dunkin%27',\n '/biz/dunkin-new-york-59?osq=Dunkin%27',\n '/biz/dunkin-new-york-59?osq=Dunkin%27',\n '/biz/dunkin-new-york-59?osq=Dunkin%27',\n '/biz/dunkin-new-york-59?osq=Dunkin%27',\n '/biz/dunkin-new-york-59?osq=Dunkin%27',\n '/biz/dunkin-new-york-59?osq=Dunkin%27',\n '/biz/dunkin-new-york-59?osq=Dunkin%27',\n '/biz/dunkin-new-york-59?osq=Dunkin%27',\n '/biz/dunkin-new-york-59?osq=Dunkin%27',\n '/biz/dunkin-new-york-59?osq=Dunkin%27',\n '/biz/dunkin-new-york-59?osq=Dunkin%27',\n '/biz/dunkin-new-york-59?osq=Dunkin%27',\n '/biz/dunkin-new-york-59?osq=Dunkin%27',\n '/biz/dunkin-new-york-59?osq=Dunkin%27',\n '/biz/dunkin-new-york-59?osq=Dunkin%27',\n '/biz/dunkin-new-york-59?osq=Dunkin%27',\n '/biz/dunkin-new-york-59?osq=Dunkin%27',\n '/biz/dunkin-new-york-59?osq=Dunkin%27',\n '/biz/dunkin-new-york-59?osq=Dunkin%27',\n '/biz/dunkin-new-york-59?osq=Dunkin%27',\n '/biz/dunkin-new-york-59?osq=Dunkin%27',\n '/biz/dunkin-new-york-59?osq=Dunkin%27',\n '/biz/dunkin-new-york-59?osq=Dunkin%27',\n '/biz/dunkin-new-york-59?osq=Dunkin%27',\n '/biz/dunkin-new-york-59?osq=Dunkin%27',\n '/biz/dunkin-new-york-59?osq=Dunkin%27',\n '/biz/dunkin-new-york-59?osq=Dunkin%27',\n '/biz/dunkin-new-york-126?osq=Dunkin%27',\n '/biz/dunkin-new-york-126?osq=Dunkin%27',\n '/biz/dunkin-new-york-126?osq=Dunkin%27',\n '/biz/dunkin-new-york-126?osq=Dunkin%27',\n '/biz/dunkin-new-york-126?osq=Dunkin%27',\n '/biz/dunkin-new-york-126?osq=Dunkin%27',\n '/biz/dunkin-new-york-126?osq=Dunkin%27',\n '/biz/dunkin-new-york-126?osq=Dunkin%27',\n '/biz/dunkin-new-york-126?osq=Dunkin%27',\n '/biz/dunkin-new-york-126?osq=Dunkin%27',\n '/biz/dunkin-new-york-126?osq=Dunkin%27',\n '/biz/dunkin-new-york-126?osq=Dunkin%27',\n '/biz/dunkin-new-york-126?osq=Dunkin%27',\n '/biz/dunkin-new-york-126?osq=Dunkin%27',\n '/biz/dunkin-new-york-126?osq=Dunkin%27',\n '/biz/dunkin-new-york-126?osq=Dunkin%27',\n '/biz/dunkin-new-york-126?osq=Dunkin%27',\n '/biz/dunkin-new-york-126?osq=Dunkin%27',\n '/biz/dunkin-new-york-126?osq=Dunkin%27',\n '/biz/dunkin-new-york-126?osq=Dunkin%27',\n '/biz/dunkin-new-york-126?osq=Dunkin%27',\n '/biz/dunkin-new-york-126?osq=Dunkin%27',\n '/biz/dunkin-new-york-92?osq=Dunkin%27',\n '/biz/dunkin-new-york-92?osq=Dunkin%27',\n '/biz/dunkin-new-york-92?osq=Dunkin%27',\n '/biz/dunkin-new-york-92?osq=Dunkin%27',\n '/biz/dunkin-new-york-92?osq=Dunkin%27',\n '/biz/dunkin-new-york-92?osq=Dunkin%27',\n '/biz/dunkin-new-york-92?osq=Dunkin%27',\n '/biz/dunkin-new-york-92?osq=Dunkin%27',\n '/biz/dunkin-new-york-92?osq=Dunkin%27',\n '/biz/dunkin-new-york-92?osq=Dunkin%27',\n '/biz/dunkin-new-york-92?osq=Dunkin%27',\n '/biz/dunkin-new-york-92?osq=Dunkin%27',\n '/biz/dunkin-new-york-92?osq=Dunkin%27',\n '/biz/dunkin-new-york-92?osq=Dunkin%27',\n '/biz/dunkin-new-york-92?osq=Dunkin%27',\n '/biz/dunkin-new-york-92?osq=Dunkin%27',\n '/biz/dunkin-new-york-92?osq=Dunkin%27',\n '/biz/dunkin-new-york-92?osq=Dunkin%27',\n '/biz/dunkin-new-york-92?osq=Dunkin%27',\n '/biz/dunkin-new-york-92?osq=Dunkin%27',\n '/biz/dunkin-new-york-92?osq=Dunkin%27',\n '/biz/dunkin-new-york-92?osq=Dunkin%27',\n '/biz/dunkin-new-york-92?osq=Dunkin%27',\n '/biz/dunkin-new-york-92?osq=Dunkin%27',\n '/biz/dunkin-new-york-92?osq=Dunkin%27',\n '/biz/dunkin-new-york-92?osq=Dunkin%27',\n '/biz/dunkin-new-york-92?osq=Dunkin%27',\n '/biz/dunkin-new-york-92?osq=Dunkin%27',\n '/biz/dunkin-new-york-92?osq=Dunkin%27',\n '/biz/dunkin-new-york-92?osq=Dunkin%27',\n '/biz/dunkin-new-york-92?osq=Dunkin%27',\n '/biz/dunkin-new-york-92?osq=Dunkin%27',\n '/biz/dunkin-new-york-92?osq=Dunkin%27',\n '/biz/dunkin-new-york-92?osq=Dunkin%27',\n '/biz/dunkin-new-york-92?osq=Dunkin%27',\n '/biz/dunkin-new-york-92?osq=Dunkin%27',\n '/biz/dunkin-new-york-92?osq=Dunkin%27',\n '/biz/dunkin-new-york-92?osq=Dunkin%27',\n '/biz/dunkin-new-york-92?osq=Dunkin%27',\n '/biz/dunkin-new-york-92?osq=Dunkin%27',\n '/biz/dunkin-new-york-142?osq=Dunkin%27',\n '/biz/dunkin-new-york-142?osq=Dunkin%27',\n '/biz/dunkin-new-york-142?osq=Dunkin%27',\n '/biz/dunkin-new-york-142?osq=Dunkin%27',\n '/biz/dunkin-new-york-142?osq=Dunkin%27',\n '/biz/dunkin-new-york-142?osq=Dunkin%27',\n '/biz/dunkin-new-york-142?osq=Dunkin%27',\n '/biz/dunkin-new-york-142?osq=Dunkin%27',\n '/biz/dunkin-new-york-142?osq=Dunkin%27',\n '/biz/dunkin-new-york-142?osq=Dunkin%27',\n '/biz/dunkin-new-york-142?osq=Dunkin%27',\n '/biz/dunkin-new-york-142?osq=Dunkin%27',\n '/biz/dunkin-new-york-142?osq=Dunkin%27',\n '/biz/dunkin-new-york-142?osq=Dunkin%27',\n '/biz/dunkin-new-york-142?osq=Dunkin%27',\n '/biz/dunkin-new-york-50?osq=Dunkin%27',\n '/biz/dunkin-new-york-50?osq=Dunkin%27',\n '/biz/dunkin-new-york-50?osq=Dunkin%27',\n '/biz/dunkin-new-york-50?osq=Dunkin%27',\n '/biz/dunkin-new-york-50?osq=Dunkin%27',\n '/biz/dunkin-new-york-50?osq=Dunkin%27',\n '/biz/dunkin-new-york-50?osq=Dunkin%27',\n '/biz/dunkin-new-york-50?osq=Dunkin%27',\n '/biz/dunkin-new-york-50?osq=Dunkin%27',\n '/biz/dunkin-new-york-50?osq=Dunkin%27',\n '/biz/dunkin-new-york-50?osq=Dunkin%27',\n '/biz/dunkin-new-york-50?osq=Dunkin%27',\n '/biz/dunkin-new-york-50?osq=Dunkin%27',\n '/biz/dunkin-new-york-50?osq=Dunkin%27',\n '/biz/dunkin-new-york-50?osq=Dunkin%27',\n '/biz/dunkin-new-york-50?osq=Dunkin%27',\n '/biz/dunkin-new-york-50?osq=Dunkin%27',\n '/biz/dunkin-new-york-50?osq=Dunkin%27',\n '/biz/dunkin-new-york-50?osq=Dunkin%27',\n '/biz/dunkin-new-york-50?osq=Dunkin%27',\n '/biz/dunkin-new-york-50?osq=Dunkin%27',\n '/biz/dunkin-new-york-50?osq=Dunkin%27',\n '/biz/dunkin-new-york-50?osq=Dunkin%27',\n '/biz/dunkin-new-york-50?osq=Dunkin%27',\n '/biz/dunkin-new-york-50?osq=Dunkin%27',\n '/biz/dunkin-new-york-50?osq=Dunkin%27',\n '/biz/dunkin-new-york-50?osq=Dunkin%27',\n '/biz/dunkin-new-york-50?osq=Dunkin%27',\n '/biz/dunkin-new-york-50?osq=Dunkin%27',\n '/biz/dunkin-new-york-50?osq=Dunkin%27',\n '/biz/dunkin-new-york-50?osq=Dunkin%27',\n '/biz/dunkin-new-york-50?osq=Dunkin%27',\n '/biz/dunkin-new-york-107?osq=Dunkin%27',\n '/biz/dunkin-new-york-107?osq=Dunkin%27',\n '/biz/dunkin-new-york-107?osq=Dunkin%27',\n '/biz/dunkin-new-york-107?osq=Dunkin%27',\n '/biz/dunkin-new-york-107?osq=Dunkin%27',\n '/biz/dunkin-new-york-107?osq=Dunkin%27',\n '/biz/dunkin-new-york-107?osq=Dunkin%27',\n '/biz/dunkin-new-york-107?osq=Dunkin%27',\n '/biz/dunkin-new-york-107?osq=Dunkin%27',\n '/biz/dunkin-new-york-107?osq=Dunkin%27',\n '/biz/dunkin-new-york-107?osq=Dunkin%27',\n '/biz/dunkin-new-york-107?osq=Dunkin%27',\n '/biz/dunkin-new-york-107?osq=Dunkin%27',\n '/biz/dunkin-new-york-107?osq=Dunkin%27',\n '/biz/dunkin-new-york-107?osq=Dunkin%27',\n '/biz/dunkin-new-york-107?osq=Dunkin%27',\n '/biz/dunkin-new-york-107?osq=Dunkin%27',\n '/biz/dunkin-new-york-107?osq=Dunkin%27',\n '/biz/dunkin-new-york-107?osq=Dunkin%27',\n '/biz/dunkin-new-york-107?osq=Dunkin%27',\n '/biz/dunkin-new-york-107?osq=Dunkin%27',\n '/biz/dunkin-new-york-107?osq=Dunkin%27',\n '/biz/dunkin-new-york-107?osq=Dunkin%27',\n '/biz/dunkin-new-york-107?osq=Dunkin%27',\n '/biz/dunkin-new-york-107?osq=Dunkin%27',\n '/biz/dunkin-new-york-107?osq=Dunkin%27',\n '/biz/dunkin-new-york-107?osq=Dunkin%27',\n '/biz/dunkin-new-york-107?osq=Dunkin%27',\n '/biz/dunkin-new-york-107?osq=Dunkin%27',\n '/biz/dunkin-new-york-107?osq=Dunkin%27',\n '/biz/dunkin-new-york-107?osq=Dunkin%27',\n '/biz/dunkin-new-york-107?osq=Dunkin%27',\n '/biz/dunkin-new-york-107?osq=Dunkin%27',\n '/biz/dunkin-new-york-107?osq=Dunkin%27',\n '/biz/dunkin-new-york-107?osq=Dunkin%27',\n '/biz/dunkin-new-york-107?osq=Dunkin%27',\n '/biz/dunkin-new-york-107?osq=Dunkin%27',\n '/biz/dunkin-new-york-107?osq=Dunkin%27',\n '/adredir?ad_business_id=tXWkZsgqEnAGhMJNquO7jQ&campaign_id=d3pLjUZg8X8mvCkOpi8aSw&click_origin=search_results&placement=above_search&placement_slot=0&redirect_url=https%3A%2F%2Fwww.yelp.com%2Fbiz%2Fdunkin-new-york-131&request_id=ed33ed913143100b&signature=7695fd66d7e4fdee624235cae73a84778b7d10276298744749a5f0c528f45dbc&slot=0',\n '/adredir?ad_business_id=tXWkZsgqEnAGhMJNquO7jQ&campaign_id=d3pLjUZg8X8mvCkOpi8aSw&click_origin=search_results&placement=above_search&placement_slot=0&redirect_url=https%3A%2F%2Fwww.yelp.com%2Fbiz%2Fdunkin-new-york-131&request_id=ed33ed913143100b&signature=7695fd66d7e4fdee624235cae73a84778b7d10276298744749a5f0c528f45dbc&slot=0',\n '/adredir?ad_business_id=tXWkZsgqEnAGhMJNquO7jQ&campaign_id=d3pLjUZg8X8mvCkOpi8aSw&click_origin=search_results&placement=above_search&placement_slot=0&redirect_url=https%3A%2F%2Fwww.yelp.com%2Fbiz%2Fdunkin-new-york-131&request_id=ed33ed913143100b&signature=7695fd66d7e4fdee624235cae73a84778b7d10276298744749a5f0c528f45dbc&slot=0',\n '/adredir?ad_business_id=tXWkZsgqEnAGhMJNquO7jQ&campaign_id=d3pLjUZg8X8mvCkOpi8aSw&click_origin=search_results&placement=above_search&placement_slot=0&redirect_url=https%3A%2F%2Fwww.yelp.com%2Fbiz%2Fdunkin-new-york-131&request_id=ed33ed913143100b&signature=7695fd66d7e4fdee624235cae73a84778b7d10276298744749a5f0c528f45dbc&slot=0',\n '/adredir?ad_business_id=tXWkZsgqEnAGhMJNquO7jQ&campaign_id=d3pLjUZg8X8mvCkOpi8aSw&click_origin=search_results&placement=above_search&placement_slot=0&redirect_url=https%3A%2F%2Fwww.yelp.com%2Fbiz%2Fdunkin-new-york-131&request_id=ed33ed913143100b&signature=7695fd66d7e4fdee624235cae73a84778b7d10276298744749a5f0c528f45dbc&slot=0',\n '/adredir?ad_business_id=tXWkZsgqEnAGhMJNquO7jQ&campaign_id=d3pLjUZg8X8mvCkOpi8aSw&click_origin=search_results&placement=above_search&placement_slot=0&redirect_url=https%3A%2F%2Fwww.yelp.com%2Fbiz%2Fdunkin-new-york-131&request_id=ed33ed913143100b&signature=7695fd66d7e4fdee624235cae73a84778b7d10276298744749a5f0c528f45dbc&slot=0',\n '/adredir?ad_business_id=tXWkZsgqEnAGhMJNquO7jQ&campaign_id=d3pLjUZg8X8mvCkOpi8aSw&click_origin=search_results&placement=above_search&placement_slot=0&redirect_url=https%3A%2F%2Fwww.yelp.com%2Fbiz%2Fdunkin-new-york-131&request_id=ed33ed913143100b&signature=7695fd66d7e4fdee624235cae73a84778b7d10276298744749a5f0c528f45dbc&slot=0',\n '/adredir?ad_business_id=tXWkZsgqEnAGhMJNquO7jQ&campaign_id=d3pLjUZg8X8mvCkOpi8aSw&click_origin=search_results&placement=above_search&placement_slot=0&redirect_url=https%3A%2F%2Fwww.yelp.com%2Fbiz%2Fdunkin-new-york-131&request_id=ed33ed913143100b&signature=7695fd66d7e4fdee624235cae73a84778b7d10276298744749a5f0c528f45dbc&slot=0',\n '/adredir?ad_business_id=tXWkZsgqEnAGhMJNquO7jQ&campaign_id=d3pLjUZg8X8mvCkOpi8aSw&click_origin=search_results&placement=above_search&placement_slot=0&redirect_url=https%3A%2F%2Fwww.yelp.com%2Fbiz%2Fdunkin-new-york-131&request_id=ed33ed913143100b&signature=7695fd66d7e4fdee624235cae73a84778b7d10276298744749a5f0c528f45dbc&slot=0',\n '/adredir?ad_business_id=tXWkZsgqEnAGhMJNquO7jQ&campaign_id=d3pLjUZg8X8mvCkOpi8aSw&click_origin=search_results&placement=above_search&placement_slot=0&redirect_url=https%3A%2F%2Fwww.yelp.com%2Fbiz%2Fdunkin-new-york-131&request_id=ed33ed913143100b&signature=7695fd66d7e4fdee624235cae73a84778b7d10276298744749a5f0c528f45dbc&slot=0',\n '/adredir?ad_business_id=tXWkZsgqEnAGhMJNquO7jQ&campaign_id=d3pLjUZg8X8mvCkOpi8aSw&click_origin=search_results&placement=above_search&placement_slot=0&redirect_url=https%3A%2F%2Fwww.yelp.com%2Fbiz%2Fdunkin-new-york-131&request_id=ed33ed913143100b&signature=7695fd66d7e4fdee624235cae73a84778b7d10276298744749a5f0c528f45dbc&slot=0',\n '/adredir?ad_business_id=tXWkZsgqEnAGhMJNquO7jQ&campaign_id=d3pLjUZg8X8mvCkOpi8aSw&click_origin=search_results&placement=above_search&placement_slot=0&redirect_url=https%3A%2F%2Fwww.yelp.com%2Fbiz%2Fdunkin-new-york-131&request_id=ed33ed913143100b&signature=7695fd66d7e4fdee624235cae73a84778b7d10276298744749a5f0c528f45dbc&slot=0',\n '/adredir?ad_business_id=tXWkZsgqEnAGhMJNquO7jQ&campaign_id=d3pLjUZg8X8mvCkOpi8aSw&click_origin=search_results&placement=above_search&placement_slot=0&redirect_url=https%3A%2F%2Fwww.yelp.com%2Fbiz%2Fdunkin-new-york-131&request_id=ed33ed913143100b&signature=7695fd66d7e4fdee624235cae73a84778b7d10276298744749a5f0c528f45dbc&slot=0',\n '/adredir?ad_business_id=tXWkZsgqEnAGhMJNquO7jQ&campaign_id=d3pLjUZg8X8mvCkOpi8aSw&click_origin=search_results&placement=above_search&placement_slot=0&redirect_url=https%3A%2F%2Fwww.yelp.com%2Fbiz%2Fdunkin-new-york-131&request_id=ed33ed913143100b&signature=7695fd66d7e4fdee624235cae73a84778b7d10276298744749a5f0c528f45dbc&slot=0',\n '/adredir?ad_business_id=tXWkZsgqEnAGhMJNquO7jQ&campaign_id=d3pLjUZg8X8mvCkOpi8aSw&click_origin=search_results&placement=above_search&placement_slot=0&redirect_url=https%3A%2F%2Fwww.yelp.com%2Fbiz%2Fdunkin-new-york-131&request_id=ed33ed913143100b&signature=7695fd66d7e4fdee624235cae73a84778b7d10276298744749a5f0c528f45dbc&slot=0',\n '/adredir?ad_business_id=tXWkZsgqEnAGhMJNquO7jQ&campaign_id=d3pLjUZg8X8mvCkOpi8aSw&click_origin=search_results&placement=above_search&placement_slot=0&redirect_url=https%3A%2F%2Fwww.yelp.com%2Fbiz%2Fdunkin-new-york-131&request_id=ed33ed913143100b&signature=7695fd66d7e4fdee624235cae73a84778b7d10276298744749a5f0c528f45dbc&slot=0',\n '/adredir?ad_business_id=tXWkZsgqEnAGhMJNquO7jQ&campaign_id=d3pLjUZg8X8mvCkOpi8aSw&click_origin=search_results&placement=above_search&placement_slot=0&redirect_url=https%3A%2F%2Fwww.yelp.com%2Fbiz%2Fdunkin-new-york-131&request_id=ed33ed913143100b&signature=7695fd66d7e4fdee624235cae73a84778b7d10276298744749a5f0c528f45dbc&slot=0',\n '/adredir?ad_business_id=tXWkZsgqEnAGhMJNquO7jQ&campaign_id=d3pLjUZg8X8mvCkOpi8aSw&click_origin=search_results&placement=above_search&placement_slot=0&redirect_url=https%3A%2F%2Fwww.yelp.com%2Fbiz%2Fdunkin-new-york-131&request_id=ed33ed913143100b&signature=7695fd66d7e4fdee624235cae73a84778b7d10276298744749a5f0c528f45dbc&slot=0',\n '/adredir?ad_business_id=tXWkZsgqEnAGhMJNquO7jQ&campaign_id=d3pLjUZg8X8mvCkOpi8aSw&click_origin=search_results&placement=above_search&placement_slot=0&redirect_url=https%3A%2F%2Fwww.yelp.com%2Fbiz%2Fdunkin-new-york-131&request_id=ed33ed913143100b&signature=7695fd66d7e4fdee624235cae73a84778b7d10276298744749a5f0c528f45dbc&slot=0',\n '/adredir?ad_business_id=tXWkZsgqEnAGhMJNquO7jQ&campaign_id=d3pLjUZg8X8mvCkOpi8aSw&click_origin=search_results&placement=above_search&placement_slot=0&redirect_url=https%3A%2F%2Fwww.yelp.com%2Fbiz%2Fdunkin-new-york-131&request_id=ed33ed913143100b&signature=7695fd66d7e4fdee624235cae73a84778b7d10276298744749a5f0c528f45dbc&slot=0',\n '/adredir?ad_business_id=tXWkZsgqEnAGhMJNquO7jQ&campaign_id=d3pLjUZg8X8mvCkOpi8aSw&click_origin=search_results&placement=above_search&placement_slot=0&redirect_url=https%3A%2F%2Fwww.yelp.com%2Fbiz%2Fdunkin-new-york-131&request_id=ed33ed913143100b&signature=7695fd66d7e4fdee624235cae73a84778b7d10276298744749a5f0c528f45dbc&slot=0',\n '/adredir?ad_business_id=tXWkZsgqEnAGhMJNquO7jQ&campaign_id=d3pLjUZg8X8mvCkOpi8aSw&click_origin=search_results&placement=above_search&placement_slot=0&redirect_url=https%3A%2F%2Fwww.yelp.com%2Fbiz%2Fdunkin-new-york-131&request_id=ed33ed913143100b&signature=7695fd66d7e4fdee624235cae73a84778b7d10276298744749a5f0c528f45dbc&slot=0',\n '/biz/dunkin-new-york-30?osq=Dunkin%27',\n '/biz/dunkin-new-york-30?osq=Dunkin%27',\n '/biz/dunkin-new-york-30?osq=Dunkin%27',\n '/biz/dunkin-new-york-30?osq=Dunkin%27',\n '/biz/dunkin-new-york-30?osq=Dunkin%27',\n '/biz/dunkin-new-york-30?osq=Dunkin%27',\n '/biz/dunkin-new-york-30?osq=Dunkin%27',\n '/biz/dunkin-new-york-30?osq=Dunkin%27',\n '/biz/dunkin-new-york-30?osq=Dunkin%27',\n '/biz/dunkin-new-york-30?osq=Dunkin%27',\n '/biz/dunkin-new-york-30?osq=Dunkin%27',\n '/biz/dunkin-new-york-30?osq=Dunkin%27',\n '/biz/dunkin-new-york-30?osq=Dunkin%27',\n '/biz/dunkin-new-york-30?osq=Dunkin%27',\n '/biz/dunkin-new-york-30?osq=Dunkin%27',\n '/biz/dunkin-new-york-30?osq=Dunkin%27',\n '/biz/dunkin-new-york-30?osq=Dunkin%27',\n '/biz/dunkin-new-york-30?osq=Dunkin%27',\n '/biz/dunkin-new-york-30?osq=Dunkin%27',\n '/biz/dunkin-new-york-30?osq=Dunkin%27',\n '/biz/dunkin-new-york-30?osq=Dunkin%27',\n '/biz/dunkin-new-york-30?osq=Dunkin%27',\n '/biz/dunkin-new-york-30?osq=Dunkin%27',\n '/biz/dunkin-new-york-30?osq=Dunkin%27',\n '/biz/dunkin-new-york-30?osq=Dunkin%27',\n '/biz/dunkin-new-york-30?osq=Dunkin%27',\n '/biz/dunkin-new-york-30?osq=Dunkin%27',\n '/biz/dunkin-new-york-30?osq=Dunkin%27',\n '/biz/dunkin-new-york-30?osq=Dunkin%27',\n '/biz/dunkin-new-york-30?osq=Dunkin%27',\n '/biz/dunkin-new-york-20?osq=Dunkin%27',\n '/biz/dunkin-new-york-20?osq=Dunkin%27',\n '/biz/dunkin-new-york-20?osq=Dunkin%27',\n '/biz/dunkin-new-york-20?osq=Dunkin%27',\n '/biz/dunkin-new-york-20?osq=Dunkin%27',\n '/biz/dunkin-new-york-20?osq=Dunkin%27',\n '/biz/dunkin-new-york-20?osq=Dunkin%27',\n '/biz/dunkin-new-york-20?osq=Dunkin%27',\n '/biz/dunkin-new-york-20?osq=Dunkin%27',\n '/biz/dunkin-new-york-20?osq=Dunkin%27',\n '/biz/dunkin-new-york-20?osq=Dunkin%27',\n '/biz/dunkin-new-york-20?osq=Dunkin%27',\n '/biz/dunkin-new-york-20?osq=Dunkin%27',\n '/biz/dunkin-new-york-20?osq=Dunkin%27',\n '/biz/dunkin-new-york-20?osq=Dunkin%27',\n '/biz/dunkin-new-york-20?osq=Dunkin%27',\n '/biz/dunkin-new-york-20?osq=Dunkin%27',\n '/biz/dunkin-new-york-20?osq=Dunkin%27',\n '/biz/dunkin-new-york-20?osq=Dunkin%27',\n '/biz/dunkin-new-york-20?osq=Dunkin%27',\n '/biz/dunkin-new-york-15?osq=Dunkin%27',\n '/biz/dunkin-new-york-15?osq=Dunkin%27',\n '/biz/dunkin-new-york-15?osq=Dunkin%27',\n '/biz/dunkin-new-york-15?osq=Dunkin%27',\n '/biz/dunkin-new-york-15?osq=Dunkin%27',\n '/biz/dunkin-new-york-15?osq=Dunkin%27',\n '/biz/dunkin-new-york-15?osq=Dunkin%27',\n '/biz/dunkin-new-york-15?osq=Dunkin%27',\n '/biz/dunkin-new-york-15?osq=Dunkin%27',\n '/biz/dunkin-new-york-15?osq=Dunkin%27',\n '/biz/dunkin-new-york-15?osq=Dunkin%27',\n '/biz/dunkin-new-york-15?osq=Dunkin%27',\n '/biz/dunkin-new-york-15?osq=Dunkin%27',\n '/biz/dunkin-new-york-15?osq=Dunkin%27',\n '/biz/dunkin-new-york-15?osq=Dunkin%27',\n '/biz/dunkin-new-york-15?osq=Dunkin%27',\n '/biz/dunkin-new-york-15?osq=Dunkin%27',\n '/biz/dunkin-new-york-15?osq=Dunkin%27',\n '/biz/dunkin-new-york-15?osq=Dunkin%27',\n '/biz/dunkin-new-york-15?osq=Dunkin%27',\n '/biz/dunkin-new-york-15?osq=Dunkin%27',\n '/biz/dunkin-new-york-15?osq=Dunkin%27',\n '/biz/dunkin-new-york-15?osq=Dunkin%27',\n '/biz/dunkin-new-york-15?osq=Dunkin%27',\n '/biz/dunkin-new-york-168?osq=Dunkin%27',\n '/biz/dunkin-new-york-130?osq=Dunkin%27',\n '/biz/dunkin-new-york-130?osq=Dunkin%27',\n '/biz/dunkin-new-york-130?osq=Dunkin%27',\n '/biz/dunkin-new-york-130?osq=Dunkin%27',\n '/biz/dunkin-new-york-130?osq=Dunkin%27',\n '/biz/dunkin-new-york-130?osq=Dunkin%27',\n '/biz/dunkin-new-york-130?osq=Dunkin%27',\n '/biz/dunkin-new-york-130?osq=Dunkin%27',\n '/biz/dunkin-new-york-130?osq=Dunkin%27',\n '/biz/dunkin-new-york-130?osq=Dunkin%27',\n '/biz/dunkin-new-york-130?osq=Dunkin%27',\n '/biz/dunkin-new-york-130?osq=Dunkin%27',\n '/biz/dunkin-new-york-130?osq=Dunkin%27',\n '/biz/dunkin-new-york-130?osq=Dunkin%27',\n '/biz/dunkin-new-york-130?osq=Dunkin%27',\n '/biz/dunkin-new-york-130?osq=Dunkin%27',\n '/biz/dunkin-new-york-130?osq=Dunkin%27',\n '/biz/dunkin-new-york-130?osq=Dunkin%27',\n '/biz/dunkin-new-york-130?osq=Dunkin%27',\n '/biz/dunkin-new-york-130?osq=Dunkin%27',\n '/biz/dunkin-new-york-130?osq=Dunkin%27',\n '/biz/dunkin-new-york-130?osq=Dunkin%27',\n '/biz/dunkin-new-york-130?osq=Dunkin%27',\n '/biz/dunkin-new-york-130?osq=Dunkin%27',\n '/biz/dunkin-new-york-130?osq=Dunkin%27',\n '/biz/dunkin-new-york-130?osq=Dunkin%27',\n '/biz/dunkin-new-york-130?osq=Dunkin%27',\n '/biz/dunkin-new-york-153?osq=Dunkin%27',\n '/biz/dunkin-new-york-153?osq=Dunkin%27',\n '/biz/dunkin-new-york-153?osq=Dunkin%27',\n '/biz/dunkin-new-york-153?osq=Dunkin%27',\n '/biz/dunkin-new-york-153?osq=Dunkin%27',\n '/biz/dunkin-new-york-153?osq=Dunkin%27',\n '/biz/dunkin-new-york-153?osq=Dunkin%27',\n '/biz/dunkin-new-york-153?osq=Dunkin%27',\n '/biz/dunkin-new-york-153?osq=Dunkin%27',\n '/biz/dunkin-new-york-153?osq=Dunkin%27',\n '/biz/dunkin-new-york-153?osq=Dunkin%27',\n '/biz/dunkin-new-york-153?osq=Dunkin%27',\n '/biz/dunkin-new-york-153?osq=Dunkin%27',\n '/biz/dunkin-new-york-153?osq=Dunkin%27',\n '/biz/dunkin-new-york-153?osq=Dunkin%27',\n '/biz/dunkin-new-york-153?osq=Dunkin%27',\n '/biz/dunkin-new-york-153?osq=Dunkin%27',\n '/biz/dunkin-new-york-153?osq=Dunkin%27',\n '/biz/dunkin-new-york-153?osq=Dunkin%27',\n '/biz/dunkin-new-york-155?osq=Dunkin%27',\n '/biz/dunkin-new-york-155?osq=Dunkin%27',\n '/biz/dunkin-new-york-155?osq=Dunkin%27',\n '/biz/dunkin-new-york-155?osq=Dunkin%27',\n '/biz/dunkin-new-york-155?osq=Dunkin%27',\n '/biz/dunkin-new-york-155?osq=Dunkin%27',\n '/biz/dunkin-new-york-155?osq=Dunkin%27',\n '/biz/dunkin-new-york-155?osq=Dunkin%27',\n '/biz/dunkin-new-york-155?osq=Dunkin%27',\n '/biz/dunkin-new-york-155?osq=Dunkin%27',\n '/biz/dunkin-new-york-155?osq=Dunkin%27',\n '/biz/dunkin-new-york-155?osq=Dunkin%27',\n '/biz/dunkin-new-york-155?osq=Dunkin%27',\n '/biz/dunkin-new-york-155?osq=Dunkin%27',\n '/biz/dunkin-new-york-155?osq=Dunkin%27',\n '/biz/dunkin-new-york-155?osq=Dunkin%27',\n '/biz/dunkin-new-york-155?osq=Dunkin%27',\n '/biz/dunkin-new-york-155?osq=Dunkin%27',\n '/biz/dunkin-new-york-155?osq=Dunkin%27',\n '/biz/dunkin-new-york-155?osq=Dunkin%27',\n '/biz/dunkin-new-york-155?osq=Dunkin%27',\n '/biz/dunkin-new-york-155?osq=Dunkin%27',\n '/biz/dunkin-new-york-155?osq=Dunkin%27',\n '/biz/dunkin-new-york-155?osq=Dunkin%27',\n '/biz/dunkin-new-york-155?osq=Dunkin%27',\n '/biz/dunkin-new-york-155?osq=Dunkin%27',\n '/biz/dunkin-new-york-155?osq=Dunkin%27',\n '/biz/dunkin-new-york-155?osq=Dunkin%27',\n '/biz/dunkin-new-york-155?osq=Dunkin%27',\n '/biz/dunkin-new-york-155?osq=Dunkin%27',\n '/biz/dunkin-new-york-155?osq=Dunkin%27',\n '/biz/dunkin-new-york-155?osq=Dunkin%27',\n '/biz/dunkin-new-york-155?osq=Dunkin%27',\n '/biz/dunkin-new-york-155?osq=Dunkin%27',\n '/biz/dunkin-new-york-155?osq=Dunkin%27',\n '/biz/dunkin-new-york-155?osq=Dunkin%27',\n '/biz/dunkin-new-york-155?osq=Dunkin%27',\n '/biz/dunkin-new-york-155?osq=Dunkin%27',\n '/biz/dunkin-new-york-174?osq=Dunkin%27',\n '/biz/dunkin-new-york-174?osq=Dunkin%27',\n '/biz/dunkin-new-york-174?osq=Dunkin%27',\n '/biz/dunkin-new-york-174?osq=Dunkin%27',\n '/biz/dunkin-new-york-174?osq=Dunkin%27',\n '/biz/dunkin-new-york-174?osq=Dunkin%27',\n '/biz/dunkin-new-york-174?osq=Dunkin%27',\n '/biz/dunkin-new-york-174?osq=Dunkin%27',\n '/biz/dunkin-new-york-174?osq=Dunkin%27',\n '/biz/dunkin-new-york-174?osq=Dunkin%27',\n '/biz/dunkin-new-york-174?osq=Dunkin%27',\n '/biz/dunkin-new-york-174?osq=Dunkin%27',\n '/biz/dunkin-new-york-174?osq=Dunkin%27',\n '/biz/dunkin-new-york-174?osq=Dunkin%27',\n '/biz/dunkin-new-york-174?osq=Dunkin%27',\n '/biz/dunkin-new-york-174?osq=Dunkin%27',\n '/biz/dunkin-new-york-174?osq=Dunkin%27',\n '/biz/dunkin-new-york-174?osq=Dunkin%27',\n '/biz/dunkin-new-york-174?osq=Dunkin%27',\n '/biz/dunkin-new-york-174?osq=Dunkin%27',\n '/biz/dunkin-new-york-174?osq=Dunkin%27',\n '/biz/dunkin-new-york-174?osq=Dunkin%27',\n '/biz/dunkin-new-york-174?osq=Dunkin%27',\n '/biz/dunkin-new-york-174?osq=Dunkin%27',\n '/biz/dunkin-new-york-174?osq=Dunkin%27',\n '/biz/dunkin-new-york-45?osq=Dunkin%27',\n '/biz/dunkin-new-york-45?osq=Dunkin%27',\n '/biz/dunkin-new-york-45?osq=Dunkin%27',\n '/biz/dunkin-new-york-45?osq=Dunkin%27',\n '/biz/dunkin-new-york-45?osq=Dunkin%27',\n '/biz/dunkin-new-york-45?osq=Dunkin%27',\n '/biz/dunkin-new-york-45?osq=Dunkin%27',\n '/biz/dunkin-new-york-45?osq=Dunkin%27',\n '/biz/dunkin-new-york-45?osq=Dunkin%27',\n '/biz/dunkin-new-york-45?osq=Dunkin%27',\n '/biz/dunkin-new-york-45?osq=Dunkin%27',\n '/biz/dunkin-new-york-45?osq=Dunkin%27',\n '/biz/dunkin-new-york-45?osq=Dunkin%27',\n '/biz/dunkin-new-york-45?osq=Dunkin%27',\n '/biz/dunkin-new-york-45?osq=Dunkin%27',\n '/biz/dunkin-new-york-45?osq=Dunkin%27',\n '/biz/dunkin-new-york-45?osq=Dunkin%27',\n '/biz/dunkin-new-york-45?osq=Dunkin%27',\n '/biz/dunkin-new-york-45?osq=Dunkin%27',\n '/biz/dunkin-new-york-45?osq=Dunkin%27',\n '/biz/dunkin-new-york-45?osq=Dunkin%27',\n '/biz/dunkin-new-york-45?osq=Dunkin%27',\n '/biz/dunkin-new-york-45?osq=Dunkin%27',\n '/biz/dunkin-new-york-25?osq=Dunkin%27',\n '/biz/dunkin-new-york-25?osq=Dunkin%27',\n '/biz/dunkin-new-york-25?osq=Dunkin%27',\n '/biz/dunkin-new-york-25?osq=Dunkin%27',\n '/biz/dunkin-new-york-25?osq=Dunkin%27',\n '/biz/dunkin-new-york-25?osq=Dunkin%27',\n '/biz/dunkin-new-york-25?osq=Dunkin%27',\n '/biz/dunkin-new-york-25?osq=Dunkin%27',\n '/biz/dunkin-new-york-25?osq=Dunkin%27',\n '/biz/dunkin-new-york-25?osq=Dunkin%27',\n '/biz/dunkin-new-york-25?osq=Dunkin%27',\n '/biz/dunkin-new-york-25?osq=Dunkin%27',\n '/biz/dunkin-new-york-25?osq=Dunkin%27',\n '/biz/dunkin-new-york-25?osq=Dunkin%27',\n '/biz/dunkin-new-york-25?osq=Dunkin%27',\n '/biz/dunkin-new-york-25?osq=Dunkin%27',\n '/biz/dunkin-new-york-25?osq=Dunkin%27',\n '/biz/dunkin-new-york-25?osq=Dunkin%27',\n '/biz/dunkin-new-york-25?osq=Dunkin%27',\n '/biz/dunkin-new-york-25?osq=Dunkin%27',\n '/biz/dunkin-new-york-25?osq=Dunkin%27',\n '/biz/dunkin-new-york-25?osq=Dunkin%27',\n '/biz/dunkin-new-york-25?osq=Dunkin%27',\n '/biz/dunkin-new-york-25?osq=Dunkin%27',\n '/biz/dunkin-new-york-25?osq=Dunkin%27',\n '/biz/dunkin-new-york-25?osq=Dunkin%27',\n '/adredir?ad_business_id=tXWkZsgqEnAGhMJNquO7jQ&campaign_id=d3pLjUZg8X8mvCkOpi8aSw&click_origin=search_results&placement=above_search&placement_slot=0&redirect_url=https%3A%2F%2Fwww.yelp.com%2Fbiz%2Fdunkin-new-york-131&request_id=6b8f7dc096e41057&signature=d8e25ff669d42aacfe6400aed14c1402db6a4d0e40b5f717dd2a6c13d896ce00&slot=0',\n '/adredir?ad_business_id=tXWkZsgqEnAGhMJNquO7jQ&campaign_id=d3pLjUZg8X8mvCkOpi8aSw&click_origin=search_results&placement=above_search&placement_slot=0&redirect_url=https%3A%2F%2Fwww.yelp.com%2Fbiz%2Fdunkin-new-york-131&request_id=6b8f7dc096e41057&signature=d8e25ff669d42aacfe6400aed14c1402db6a4d0e40b5f717dd2a6c13d896ce00&slot=0',\n '/adredir?ad_business_id=tXWkZsgqEnAGhMJNquO7jQ&campaign_id=d3pLjUZg8X8mvCkOpi8aSw&click_origin=search_results&placement=above_search&placement_slot=0&redirect_url=https%3A%2F%2Fwww.yelp.com%2Fbiz%2Fdunkin-new-york-131&request_id=6b8f7dc096e41057&signature=d8e25ff669d42aacfe6400aed14c1402db6a4d0e40b5f717dd2a6c13d896ce00&slot=0',\n '/adredir?ad_business_id=tXWkZsgqEnAGhMJNquO7jQ&campaign_id=d3pLjUZg8X8mvCkOpi8aSw&click_origin=search_results&placement=above_search&placement_slot=0&redirect_url=https%3A%2F%2Fwww.yelp.com%2Fbiz%2Fdunkin-new-york-131&request_id=6b8f7dc096e41057&signature=d8e25ff669d42aacfe6400aed14c1402db6a4d0e40b5f717dd2a6c13d896ce00&slot=0',\n '/adredir?ad_business_id=tXWkZsgqEnAGhMJNquO7jQ&campaign_id=d3pLjUZg8X8mvCkOpi8aSw&click_origin=search_results&placement=above_search&placement_slot=0&redirect_url=https%3A%2F%2Fwww.yelp.com%2Fbiz%2Fdunkin-new-york-131&request_id=6b8f7dc096e41057&signature=d8e25ff669d42aacfe6400aed14c1402db6a4d0e40b5f717dd2a6c13d896ce00&slot=0',\n '/adredir?ad_business_id=tXWkZsgqEnAGhMJNquO7jQ&campaign_id=d3pLjUZg8X8mvCkOpi8aSw&click_origin=search_results&placement=above_search&placement_slot=0&redirect_url=https%3A%2F%2Fwww.yelp.com%2Fbiz%2Fdunkin-new-york-131&request_id=6b8f7dc096e41057&signature=d8e25ff669d42aacfe6400aed14c1402db6a4d0e40b5f717dd2a6c13d896ce00&slot=0',\n '/adredir?ad_business_id=tXWkZsgqEnAGhMJNquO7jQ&campaign_id=d3pLjUZg8X8mvCkOpi8aSw&click_origin=search_results&placement=above_search&placement_slot=0&redirect_url=https%3A%2F%2Fwww.yelp.com%2Fbiz%2Fdunkin-new-york-131&request_id=6b8f7dc096e41057&signature=d8e25ff669d42aacfe6400aed14c1402db6a4d0e40b5f717dd2a6c13d896ce00&slot=0',\n '/adredir?ad_business_id=tXWkZsgqEnAGhMJNquO7jQ&campaign_id=d3pLjUZg8X8mvCkOpi8aSw&click_origin=search_results&placement=above_search&placement_slot=0&redirect_url=https%3A%2F%2Fwww.yelp.com%2Fbiz%2Fdunkin-new-york-131&request_id=6b8f7dc096e41057&signature=d8e25ff669d42aacfe6400aed14c1402db6a4d0e40b5f717dd2a6c13d896ce00&slot=0',\n '/adredir?ad_business_id=tXWkZsgqEnAGhMJNquO7jQ&campaign_id=d3pLjUZg8X8mvCkOpi8aSw&click_origin=search_results&placement=above_search&placement_slot=0&redirect_url=https%3A%2F%2Fwww.yelp.com%2Fbiz%2Fdunkin-new-york-131&request_id=6b8f7dc096e41057&signature=d8e25ff669d42aacfe6400aed14c1402db6a4d0e40b5f717dd2a6c13d896ce00&slot=0',\n '/adredir?ad_business_id=tXWkZsgqEnAGhMJNquO7jQ&campaign_id=d3pLjUZg8X8mvCkOpi8aSw&click_origin=search_results&placement=above_search&placement_slot=0&redirect_url=https%3A%2F%2Fwww.yelp.com%2Fbiz%2Fdunkin-new-york-131&request_id=6b8f7dc096e41057&signature=d8e25ff669d42aacfe6400aed14c1402db6a4d0e40b5f717dd2a6c13d896ce00&slot=0',\n '/adredir?ad_business_id=tXWkZsgqEnAGhMJNquO7jQ&campaign_id=d3pLjUZg8X8mvCkOpi8aSw&click_origin=search_results&placement=above_search&placement_slot=0&redirect_url=https%3A%2F%2Fwww.yelp.com%2Fbiz%2Fdunkin-new-york-131&request_id=6b8f7dc096e41057&signature=d8e25ff669d42aacfe6400aed14c1402db6a4d0e40b5f717dd2a6c13d896ce00&slot=0',\n '/adredir?ad_business_id=tXWkZsgqEnAGhMJNquO7jQ&campaign_id=d3pLjUZg8X8mvCkOpi8aSw&click_origin=search_results&placement=above_search&placement_slot=0&redirect_url=https%3A%2F%2Fwww.yelp.com%2Fbiz%2Fdunkin-new-york-131&request_id=6b8f7dc096e41057&signature=d8e25ff669d42aacfe6400aed14c1402db6a4d0e40b5f717dd2a6c13d896ce00&slot=0',\n '/adredir?ad_business_id=tXWkZsgqEnAGhMJNquO7jQ&campaign_id=d3pLjUZg8X8mvCkOpi8aSw&click_origin=search_results&placement=above_search&placement_slot=0&redirect_url=https%3A%2F%2Fwww.yelp.com%2Fbiz%2Fdunkin-new-york-131&request_id=6b8f7dc096e41057&signature=d8e25ff669d42aacfe6400aed14c1402db6a4d0e40b5f717dd2a6c13d896ce00&slot=0',\n '/adredir?ad_business_id=tXWkZsgqEnAGhMJNquO7jQ&campaign_id=d3pLjUZg8X8mvCkOpi8aSw&click_origin=search_results&placement=above_search&placement_slot=0&redirect_url=https%3A%2F%2Fwww.yelp.com%2Fbiz%2Fdunkin-new-york-131&request_id=6b8f7dc096e41057&signature=d8e25ff669d42aacfe6400aed14c1402db6a4d0e40b5f717dd2a6c13d896ce00&slot=0',\n '/adredir?ad_business_id=tXWkZsgqEnAGhMJNquO7jQ&campaign_id=d3pLjUZg8X8mvCkOpi8aSw&click_origin=search_results&placement=above_search&placement_slot=0&redirect_url=https%3A%2F%2Fwww.yelp.com%2Fbiz%2Fdunkin-new-york-131&request_id=6b8f7dc096e41057&signature=d8e25ff669d42aacfe6400aed14c1402db6a4d0e40b5f717dd2a6c13d896ce00&slot=0',\n '/adredir?ad_business_id=tXWkZsgqEnAGhMJNquO7jQ&campaign_id=d3pLjUZg8X8mvCkOpi8aSw&click_origin=search_results&placement=above_search&placement_slot=0&redirect_url=https%3A%2F%2Fwww.yelp.com%2Fbiz%2Fdunkin-new-york-131&request_id=6b8f7dc096e41057&signature=d8e25ff669d42aacfe6400aed14c1402db6a4d0e40b5f717dd2a6c13d896ce00&slot=0',\n '/adredir?ad_business_id=tXWkZsgqEnAGhMJNquO7jQ&campaign_id=d3pLjUZg8X8mvCkOpi8aSw&click_origin=search_results&placement=above_search&placement_slot=0&redirect_url=https%3A%2F%2Fwww.yelp.com%2Fbiz%2Fdunkin-new-york-131&request_id=6b8f7dc096e41057&signature=d8e25ff669d42aacfe6400aed14c1402db6a4d0e40b5f717dd2a6c13d896ce00&slot=0',\n '/adredir?ad_business_id=tXWkZsgqEnAGhMJNquO7jQ&campaign_id=d3pLjUZg8X8mvCkOpi8aSw&click_origin=search_results&placement=above_search&placement_slot=0&redirect_url=https%3A%2F%2Fwww.yelp.com%2Fbiz%2Fdunkin-new-york-131&request_id=6b8f7dc096e41057&signature=d8e25ff669d42aacfe6400aed14c1402db6a4d0e40b5f717dd2a6c13d896ce00&slot=0',\n '/adredir?ad_business_id=tXWkZsgqEnAGhMJNquO7jQ&campaign_id=d3pLjUZg8X8mvCkOpi8aSw&click_origin=search_results&placement=above_search&placement_slot=0&redirect_url=https%3A%2F%2Fwww.yelp.com%2Fbiz%2Fdunkin-new-york-131&request_id=6b8f7dc096e41057&signature=d8e25ff669d42aacfe6400aed14c1402db6a4d0e40b5f717dd2a6c13d896ce00&slot=0',\n '/adredir?ad_business_id=tXWkZsgqEnAGhMJNquO7jQ&campaign_id=d3pLjUZg8X8mvCkOpi8aSw&click_origin=search_results&placement=above_search&placement_slot=0&redirect_url=https%3A%2F%2Fwww.yelp.com%2Fbiz%2Fdunkin-new-york-131&request_id=6b8f7dc096e41057&signature=d8e25ff669d42aacfe6400aed14c1402db6a4d0e40b5f717dd2a6c13d896ce00&slot=0',\n '/adredir?ad_business_id=tXWkZsgqEnAGhMJNquO7jQ&campaign_id=d3pLjUZg8X8mvCkOpi8aSw&click_origin=search_results&placement=above_search&placement_slot=0&redirect_url=https%3A%2F%2Fwww.yelp.com%2Fbiz%2Fdunkin-new-york-131&request_id=6b8f7dc096e41057&signature=d8e25ff669d42aacfe6400aed14c1402db6a4d0e40b5f717dd2a6c13d896ce00&slot=0',\n '/adredir?ad_business_id=tXWkZsgqEnAGhMJNquO7jQ&campaign_id=d3pLjUZg8X8mvCkOpi8aSw&click_origin=search_results&placement=above_search&placement_slot=0&redirect_url=https%3A%2F%2Fwww.yelp.com%2Fbiz%2Fdunkin-new-york-131&request_id=6b8f7dc096e41057&signature=d8e25ff669d42aacfe6400aed14c1402db6a4d0e40b5f717dd2a6c13d896ce00&slot=0',\n '/biz/dunkin-new-york-58?osq=Dunkin%27',\n '/biz/dunkin-new-york-58?osq=Dunkin%27',\n '/biz/dunkin-new-york-58?osq=Dunkin%27',\n '/biz/dunkin-new-york-58?osq=Dunkin%27',\n '/biz/dunkin-new-york-58?osq=Dunkin%27',\n '/biz/dunkin-new-york-58?osq=Dunkin%27',\n '/biz/dunkin-brooklyn-63?osq=Dunkin%27',\n '/biz/dunkin-brooklyn-63?osq=Dunkin%27',\n '/biz/dunkin-brooklyn-63?osq=Dunkin%27',\n '/biz/dunkin-brooklyn-63?osq=Dunkin%27',\n '/biz/dunkin-brooklyn-63?osq=Dunkin%27',\n '/biz/dunkin-brooklyn-63?osq=Dunkin%27',\n '/biz/dunkin-brooklyn-63?osq=Dunkin%27',\n '/biz/dunkin-brooklyn-63?osq=Dunkin%27',\n '/biz/dunkin-brooklyn-63?osq=Dunkin%27',\n '/biz/dunkin-brooklyn-63?osq=Dunkin%27',\n '/biz/dunkin-brooklyn-63?osq=Dunkin%27',\n '/biz/dunkin-brooklyn-63?osq=Dunkin%27',\n '/biz/dunkin-brooklyn-63?osq=Dunkin%27',\n '/biz/dunkin-brooklyn-63?osq=Dunkin%27',\n '/biz/dunkin-brooklyn-63?osq=Dunkin%27',\n '/biz/dunkin-brooklyn-63?osq=Dunkin%27',\n '/biz/dunkin-brooklyn-63?osq=Dunkin%27',\n '/biz/dunkin-brooklyn-63?osq=Dunkin%27',\n '/biz/dunkin-brooklyn-63?osq=Dunkin%27',\n '/biz/dunkin-brooklyn-63?osq=Dunkin%27',\n '/biz/dunkin-brooklyn-63?osq=Dunkin%27',\n '/biz/dunkin-brooklyn-63?osq=Dunkin%27',\n '/biz/dunkin-brooklyn-63?osq=Dunkin%27',\n '/biz/dunkin-brooklyn-63?osq=Dunkin%27',\n '/biz/dunkin-brooklyn-63?osq=Dunkin%27',\n '/biz/dunkin-brooklyn-63?osq=Dunkin%27',\n '/biz/dunkin-brooklyn-63?osq=Dunkin%27',\n '/biz/dunkin-brooklyn-63?osq=Dunkin%27',\n '/biz/dunkin-brooklyn-63?osq=Dunkin%27',\n '/biz/dunkin-new-york-24?osq=Dunkin%27',\n '/biz/dunkin-new-york-24?osq=Dunkin%27',\n '/biz/dunkin-new-york-24?osq=Dunkin%27',\n '/biz/dunkin-new-york-24?osq=Dunkin%27',\n '/biz/dunkin-new-york-24?osq=Dunkin%27',\n '/biz/dunkin-new-york-24?osq=Dunkin%27',\n '/biz/dunkin-new-york-24?osq=Dunkin%27',\n '/biz/dunkin-new-york-24?osq=Dunkin%27',\n '/biz/dunkin-new-york-24?osq=Dunkin%27',\n '/biz/dunkin-new-york-24?osq=Dunkin%27',\n '/biz/dunkin-new-york-24?osq=Dunkin%27',\n '/biz/dunkin-new-york-24?osq=Dunkin%27',\n '/biz/dunkin-new-york-24?osq=Dunkin%27',\n '/biz/dunkin-brooklyn-117?osq=Dunkin%27',\n '/biz/dunkin-brooklyn-117?osq=Dunkin%27',\n '/biz/dunkin-brooklyn-117?osq=Dunkin%27',\n '/biz/dunkin-brooklyn-117?osq=Dunkin%27',\n '/biz/dunkin-brooklyn-117?osq=Dunkin%27',\n '/biz/dunkin-brooklyn-117?osq=Dunkin%27',\n '/biz/dunkin-brooklyn-117?osq=Dunkin%27',\n '/biz/dunkin-brooklyn-117?osq=Dunkin%27',\n '/biz/dunkin-brooklyn-117?osq=Dunkin%27',\n '/biz/dunkin-brooklyn-117?osq=Dunkin%27',\n '/biz/dunkin-brooklyn-117?osq=Dunkin%27',\n '/biz/dunkin-brooklyn-117?osq=Dunkin%27',\n '/biz/dunkin-brooklyn-117?osq=Dunkin%27',\n '/biz/dunkin-brooklyn-117?osq=Dunkin%27',\n '/biz/dunkin-brooklyn-117?osq=Dunkin%27',\n '/biz/dunkin-brooklyn-117?osq=Dunkin%27',\n '/biz/dunkin-brooklyn-117?osq=Dunkin%27',\n '/biz/dunkin-brooklyn-117?osq=Dunkin%27',\n '/biz/dunkin-brooklyn-117?osq=Dunkin%27',\n '/biz/dunkin-brooklyn-117?osq=Dunkin%27',\n '/biz/dunkin-brooklyn-117?osq=Dunkin%27',\n '/biz/dunkin-brooklyn-117?osq=Dunkin%27',\n '/biz/dunkin-brooklyn-117?osq=Dunkin%27',\n '/biz/dunkin-brooklyn-117?osq=Dunkin%27',\n '/biz/dunkin-brooklyn-117?osq=Dunkin%27',\n '/biz/dunkin-brooklyn-117?osq=Dunkin%27',\n '/biz/dunkin-brooklyn-117?osq=Dunkin%27',\n '/biz/dunkin-brooklyn-117?osq=Dunkin%27',\n '/biz/dunkin-brooklyn-117?osq=Dunkin%27',\n '/biz/dunkin-brooklyn-117?osq=Dunkin%27',\n '/biz/dunkin-brooklyn-117?osq=Dunkin%27',\n '/biz/dunkin-brooklyn-117?osq=Dunkin%27',\n '/biz/dunkin-brooklyn-117?osq=Dunkin%27',\n '/biz/dunkin-brooklyn-117?osq=Dunkin%27',\n '/biz/dunkin-brooklyn-117?osq=Dunkin%27',\n '/biz/dunkin-brooklyn-117?osq=Dunkin%27',\n '/biz/dunkin-brooklyn-117?osq=Dunkin%27',\n '/biz/dunkin-brooklyn-117?osq=Dunkin%27',\n '/biz/dunkin-brooklyn-117?osq=Dunkin%27',\n '/biz/dunkin-brooklyn-117?osq=Dunkin%27',\n '/biz/dunkin-brooklyn-117?osq=Dunkin%27',\n '/biz/dunkin-new-york-94?osq=Dunkin%27',\n '/biz/dunkin-new-york-94?osq=Dunkin%27',\n '/biz/dunkin-new-york-94?osq=Dunkin%27',\n '/biz/dunkin-new-york-94?osq=Dunkin%27',\n '/biz/dunkin-new-york-94?osq=Dunkin%27',\n '/biz/dunkin-new-york-94?osq=Dunkin%27',\n '/biz/dunkin-new-york-94?osq=Dunkin%27',\n '/biz/dunkin-new-york-94?osq=Dunkin%27',\n '/biz/dunkin-new-york-94?osq=Dunkin%27',\n '/biz/dunkin-new-york-94?osq=Dunkin%27',\n '/biz/dunkin-new-york-94?osq=Dunkin%27',\n '/biz/dunkin-new-york-94?osq=Dunkin%27',\n '/biz/dunkin-new-york-94?osq=Dunkin%27',\n '/biz/dunkin-new-york-94?osq=Dunkin%27',\n '/biz/dunkin-new-york-94?osq=Dunkin%27',\n '/biz/dunkin-new-york-94?osq=Dunkin%27',\n '/biz/dunkin-new-york-94?osq=Dunkin%27',\n '/biz/dunkin-new-york-94?osq=Dunkin%27',\n '/biz/dunkin-new-york-94?osq=Dunkin%27',\n '/biz/dunkin-new-york-94?osq=Dunkin%27',\n '/biz/dunkin-new-york-94?osq=Dunkin%27',\n '/biz/dunkin-new-york-32?osq=Dunkin%27',\n '/biz/dunkin-new-york-32?osq=Dunkin%27',\n '/biz/dunkin-new-york-32?osq=Dunkin%27',\n '/biz/dunkin-new-york-32?osq=Dunkin%27',\n '/biz/dunkin-new-york-32?osq=Dunkin%27',\n '/biz/dunkin-new-york-32?osq=Dunkin%27',\n '/biz/dunkin-new-york-32?osq=Dunkin%27',\n '/biz/dunkin-new-york-32?osq=Dunkin%27',\n '/biz/dunkin-new-york-32?osq=Dunkin%27',\n '/biz/dunkin-new-york-32?osq=Dunkin%27',\n '/biz/dunkin-new-york-32?osq=Dunkin%27',\n '/biz/dunkin-new-york-32?osq=Dunkin%27',\n '/biz/dunkin-new-york-32?osq=Dunkin%27',\n '/biz/dunkin-new-york-32?osq=Dunkin%27',\n '/biz/dunkin-new-york-32?osq=Dunkin%27',\n '/biz/dunkin-new-york-32?osq=Dunkin%27',\n '/biz/dunkin-new-york-32?osq=Dunkin%27',\n '/biz/dunkin-new-york-32?osq=Dunkin%27',\n '/biz/dunkin-new-york-32?osq=Dunkin%27',\n '/biz/dunkin-new-york-32?osq=Dunkin%27',\n '/biz/dunkin-new-york-32?osq=Dunkin%27',\n '/biz/dunkin-new-york-32?osq=Dunkin%27',\n '/biz/dunkin-new-york-32?osq=Dunkin%27',\n '/biz/dunkin-new-york-32?osq=Dunkin%27',\n '/biz/dunkin-new-york-32?osq=Dunkin%27',\n '/biz/dunkin-new-york-32?osq=Dunkin%27',\n '/biz/dunkin-new-york-32?osq=Dunkin%27',\n '/biz/dunkin-new-york-32?osq=Dunkin%27',\n '/biz/dunkin-brooklyn-101?osq=Dunkin%27',\n '/biz/dunkin-brooklyn-101?osq=Dunkin%27',\n '/biz/dunkin-brooklyn-101?osq=Dunkin%27',\n '/biz/dunkin-brooklyn-101?osq=Dunkin%27',\n '/biz/dunkin-brooklyn-101?osq=Dunkin%27',\n '/biz/dunkin-brooklyn-101?osq=Dunkin%27',\n '/biz/dunkin-brooklyn-101?osq=Dunkin%27',\n '/biz/dunkin-brooklyn-101?osq=Dunkin%27',\n '/biz/dunkin-brooklyn-101?osq=Dunkin%27',\n '/biz/dunkin-brooklyn-101?osq=Dunkin%27',\n '/biz/dunkin-brooklyn-101?osq=Dunkin%27',\n '/biz/dunkin-brooklyn-101?osq=Dunkin%27',\n '/biz/dunkin-brooklyn-101?osq=Dunkin%27',\n '/biz/dunkin-brooklyn-101?osq=Dunkin%27',\n '/biz/dunkin-brooklyn-101?osq=Dunkin%27',\n '/biz/dunkin-brooklyn-101?osq=Dunkin%27',\n '/biz/dunkin-brooklyn-101?osq=Dunkin%27',\n '/biz/dunkin-brooklyn-101?osq=Dunkin%27',\n '/biz/dunkin-brooklyn-101?osq=Dunkin%27',\n '/biz/dunkin-brooklyn-101?osq=Dunkin%27',\n '/biz/dunkin-new-york-17?osq=Dunkin%27',\n '/biz/dunkin-new-york-17?osq=Dunkin%27',\n '/biz/dunkin-new-york-17?osq=Dunkin%27',\n '/biz/dunkin-new-york-17?osq=Dunkin%27',\n '/biz/dunkin-new-york-17?osq=Dunkin%27',\n '/biz/dunkin-new-york-17?osq=Dunkin%27',\n '/biz/dunkin-new-york-17?osq=Dunkin%27',\n '/biz/dunkin-new-york-17?osq=Dunkin%27',\n '/biz/dunkin-new-york-17?osq=Dunkin%27',\n '/biz/dunkin-new-york-17?osq=Dunkin%27',\n '/biz/dunkin-new-york-17?osq=Dunkin%27',\n '/biz/dunkin-new-york-17?osq=Dunkin%27',\n '/biz/dunkin-new-york-17?osq=Dunkin%27',\n '/biz/dunkin-new-york-17?osq=Dunkin%27',\n '/biz/dunkin-new-york-17?osq=Dunkin%27',\n '/biz/dunkin-new-york-17?osq=Dunkin%27',\n '/biz/dunkin-new-york-73?osq=Dunkin%27',\n '/biz/dunkin-new-york-73?osq=Dunkin%27',\n '/biz/dunkin-new-york-73?osq=Dunkin%27',\n '/biz/dunkin-new-york-73?osq=Dunkin%27',\n '/biz/dunkin-new-york-73?osq=Dunkin%27',\n '/biz/dunkin-new-york-73?osq=Dunkin%27',\n '/biz/dunkin-new-york-73?osq=Dunkin%27',\n '/biz/dunkin-new-york-73?osq=Dunkin%27',\n '/biz/dunkin-new-york-73?osq=Dunkin%27',\n '/biz/dunkin-new-york-73?osq=Dunkin%27',\n '/biz/dunkin-new-york-73?osq=Dunkin%27',\n '/biz/dunkin-new-york-73?osq=Dunkin%27',\n '/biz/dunkin-new-york-73?osq=Dunkin%27',\n '/biz/dunkin-new-york-73?osq=Dunkin%27',\n '/biz/dunkin-new-york-73?osq=Dunkin%27',\n '/biz/dunkin-new-york-73?osq=Dunkin%27',\n '/biz/dunkin-new-york-73?osq=Dunkin%27',\n '/biz/dunkin-new-york-73?osq=Dunkin%27',\n '/biz/dunkin-new-york-73?osq=Dunkin%27',\n '/biz/dunkin-new-york-73?osq=Dunkin%27',\n '/biz/dunkin-new-york-73?osq=Dunkin%27',\n '/biz/dunkin-new-york-73?osq=Dunkin%27',\n '/biz/dunkin-new-york-73?osq=Dunkin%27',\n '/biz/dunkin-new-york-73?osq=Dunkin%27',\n '/biz/dunkin-new-york-73?osq=Dunkin%27',\n '/biz/dunkin-brooklyn-35?osq=Dunkin%27',\n '/biz/dunkin-brooklyn-35?osq=Dunkin%27',\n '/biz/dunkin-brooklyn-35?osq=Dunkin%27',\n '/biz/dunkin-brooklyn-35?osq=Dunkin%27',\n '/biz/dunkin-brooklyn-35?osq=Dunkin%27',\n '/biz/dunkin-brooklyn-35?osq=Dunkin%27',\n '/biz/dunkin-brooklyn-35?osq=Dunkin%27',\n '/biz/dunkin-brooklyn-35?osq=Dunkin%27',\n '/biz/dunkin-brooklyn-35?osq=Dunkin%27',\n '/biz/dunkin-brooklyn-35?osq=Dunkin%27',\n '/biz/dunkin-brooklyn-35?osq=Dunkin%27',\n '/biz/dunkin-brooklyn-35?osq=Dunkin%27',\n '/biz/dunkin-brooklyn-35?osq=Dunkin%27',\n '/biz/dunkin-brooklyn-35?osq=Dunkin%27',\n '/biz/dunkin-brooklyn-35?osq=Dunkin%27',\n '/biz/dunkin-brooklyn-35?osq=Dunkin%27',\n '/biz/dunkin-brooklyn-35?osq=Dunkin%27',\n '/biz/dunkin-brooklyn-35?osq=Dunkin%27',\n '/biz/dunkin-brooklyn-35?osq=Dunkin%27',\n '/biz/dunkin-brooklyn-35?osq=Dunkin%27',\n '/biz/dunkin-brooklyn-35?osq=Dunkin%27',\n '/biz/dunkin-brooklyn-35?osq=Dunkin%27',\n '/biz/dunkin-brooklyn-35?osq=Dunkin%27',\n '/biz/dunkin-brooklyn-35?osq=Dunkin%27',\n '/adredir?ad_business_id=tXWkZsgqEnAGhMJNquO7jQ&campaign_id=d3pLjUZg8X8mvCkOpi8aSw&click_origin=search_results&placement=above_search&placement_slot=0&redirect_url=https%3A%2F%2Fwww.yelp.com%2Fbiz%2Fdunkin-new-york-131&request_id=39e932a0f32e6fe6&signature=08630e62047ebb3d4cbee8f076fa6705b1696b2317fa8d050207868f32c02da2&slot=0',\n '/adredir?ad_business_id=tXWkZsgqEnAGhMJNquO7jQ&campaign_id=d3pLjUZg8X8mvCkOpi8aSw&click_origin=search_results&placement=above_search&placement_slot=0&redirect_url=https%3A%2F%2Fwww.yelp.com%2Fbiz%2Fdunkin-new-york-131&request_id=39e932a0f32e6fe6&signature=08630e62047ebb3d4cbee8f076fa6705b1696b2317fa8d050207868f32c02da2&slot=0',\n '/adredir?ad_business_id=tXWkZsgqEnAGhMJNquO7jQ&campaign_id=d3pLjUZg8X8mvCkOpi8aSw&click_origin=search_results&placement=above_search&placement_slot=0&redirect_url=https%3A%2F%2Fwww.yelp.com%2Fbiz%2Fdunkin-new-york-131&request_id=39e932a0f32e6fe6&signature=08630e62047ebb3d4cbee8f076fa6705b1696b2317fa8d050207868f32c02da2&slot=0',\n '/adredir?ad_business_id=tXWkZsgqEnAGhMJNquO7jQ&campaign_id=d3pLjUZg8X8mvCkOpi8aSw&click_origin=search_results&placement=above_search&placement_slot=0&redirect_url=https%3A%2F%2Fwww.yelp.com%2Fbiz%2Fdunkin-new-york-131&request_id=39e932a0f32e6fe6&signature=08630e62047ebb3d4cbee8f076fa6705b1696b2317fa8d050207868f32c02da2&slot=0',\n '/adredir?ad_business_id=tXWkZsgqEnAGhMJNquO7jQ&campaign_id=d3pLjUZg8X8mvCkOpi8aSw&click_origin=search_results&placement=above_search&placement_slot=0&redirect_url=https%3A%2F%2Fwww.yelp.com%2Fbiz%2Fdunkin-new-york-131&request_id=39e932a0f32e6fe6&signature=08630e62047ebb3d4cbee8f076fa6705b1696b2317fa8d050207868f32c02da2&slot=0',\n '/adredir?ad_business_id=tXWkZsgqEnAGhMJNquO7jQ&campaign_id=d3pLjUZg8X8mvCkOpi8aSw&click_origin=search_results&placement=above_search&placement_slot=0&redirect_url=https%3A%2F%2Fwww.yelp.com%2Fbiz%2Fdunkin-new-york-131&request_id=39e932a0f32e6fe6&signature=08630e62047ebb3d4cbee8f076fa6705b1696b2317fa8d050207868f32c02da2&slot=0',\n '/adredir?ad_business_id=tXWkZsgqEnAGhMJNquO7jQ&campaign_id=d3pLjUZg8X8mvCkOpi8aSw&click_origin=search_results&placement=above_search&placement_slot=0&redirect_url=https%3A%2F%2Fwww.yelp.com%2Fbiz%2Fdunkin-new-york-131&request_id=39e932a0f32e6fe6&signature=08630e62047ebb3d4cbee8f076fa6705b1696b2317fa8d050207868f32c02da2&slot=0',\n '/adredir?ad_business_id=tXWkZsgqEnAGhMJNquO7jQ&campaign_id=d3pLjUZg8X8mvCkOpi8aSw&click_origin=search_results&placement=above_search&placement_slot=0&redirect_url=https%3A%2F%2Fwww.yelp.com%2Fbiz%2Fdunkin-new-york-131&request_id=39e932a0f32e6fe6&signature=08630e62047ebb3d4cbee8f076fa6705b1696b2317fa8d050207868f32c02da2&slot=0',\n '/adredir?ad_business_id=tXWkZsgqEnAGhMJNquO7jQ&campaign_id=d3pLjUZg8X8mvCkOpi8aSw&click_origin=search_results&placement=above_search&placement_slot=0&redirect_url=https%3A%2F%2Fwww.yelp.com%2Fbiz%2Fdunkin-new-york-131&request_id=39e932a0f32e6fe6&signature=08630e62047ebb3d4cbee8f076fa6705b1696b2317fa8d050207868f32c02da2&slot=0',\n '/adredir?ad_business_id=tXWkZsgqEnAGhMJNquO7jQ&campaign_id=d3pLjUZg8X8mvCkOpi8aSw&click_origin=search_results&placement=above_search&placement_slot=0&redirect_url=https%3A%2F%2Fwww.yelp.com%2Fbiz%2Fdunkin-new-york-131&request_id=39e932a0f32e6fe6&signature=08630e62047ebb3d4cbee8f076fa6705b1696b2317fa8d050207868f32c02da2&slot=0',\n '/adredir?ad_business_id=tXWkZsgqEnAGhMJNquO7jQ&campaign_id=d3pLjUZg8X8mvCkOpi8aSw&click_origin=search_results&placement=above_search&placement_slot=0&redirect_url=https%3A%2F%2Fwww.yelp.com%2Fbiz%2Fdunkin-new-york-131&request_id=39e932a0f32e6fe6&signature=08630e62047ebb3d4cbee8f076fa6705b1696b2317fa8d050207868f32c02da2&slot=0',\n '/adredir?ad_business_id=tXWkZsgqEnAGhMJNquO7jQ&campaign_id=d3pLjUZg8X8mvCkOpi8aSw&click_origin=search_results&placement=above_search&placement_slot=0&redirect_url=https%3A%2F%2Fwww.yelp.com%2Fbiz%2Fdunkin-new-york-131&request_id=39e932a0f32e6fe6&signature=08630e62047ebb3d4cbee8f076fa6705b1696b2317fa8d050207868f32c02da2&slot=0',\n '/adredir?ad_business_id=tXWkZsgqEnAGhMJNquO7jQ&campaign_id=d3pLjUZg8X8mvCkOpi8aSw&click_origin=search_results&placement=above_search&placement_slot=0&redirect_url=https%3A%2F%2Fwww.yelp.com%2Fbiz%2Fdunkin-new-york-131&request_id=39e932a0f32e6fe6&signature=08630e62047ebb3d4cbee8f076fa6705b1696b2317fa8d050207868f32c02da2&slot=0',\n '/adredir?ad_business_id=tXWkZsgqEnAGhMJNquO7jQ&campaign_id=d3pLjUZg8X8mvCkOpi8aSw&click_origin=search_results&placement=above_search&placement_slot=0&redirect_url=https%3A%2F%2Fwww.yelp.com%2Fbiz%2Fdunkin-new-york-131&request_id=39e932a0f32e6fe6&signature=08630e62047ebb3d4cbee8f076fa6705b1696b2317fa8d050207868f32c02da2&slot=0',\n '/adredir?ad_business_id=tXWkZsgqEnAGhMJNquO7jQ&campaign_id=d3pLjUZg8X8mvCkOpi8aSw&click_origin=search_results&placement=above_search&placement_slot=0&redirect_url=https%3A%2F%2Fwww.yelp.com%2Fbiz%2Fdunkin-new-york-131&request_id=39e932a0f32e6fe6&signature=08630e62047ebb3d4cbee8f076fa6705b1696b2317fa8d050207868f32c02da2&slot=0',\n '/adredir?ad_business_id=tXWkZsgqEnAGhMJNquO7jQ&campaign_id=d3pLjUZg8X8mvCkOpi8aSw&click_origin=search_results&placement=above_search&placement_slot=0&redirect_url=https%3A%2F%2Fwww.yelp.com%2Fbiz%2Fdunkin-new-york-131&request_id=39e932a0f32e6fe6&signature=08630e62047ebb3d4cbee8f076fa6705b1696b2317fa8d050207868f32c02da2&slot=0',\n '/adredir?ad_business_id=tXWkZsgqEnAGhMJNquO7jQ&campaign_id=d3pLjUZg8X8mvCkOpi8aSw&click_origin=search_results&placement=above_search&placement_slot=0&redirect_url=https%3A%2F%2Fwww.yelp.com%2Fbiz%2Fdunkin-new-york-131&request_id=39e932a0f32e6fe6&signature=08630e62047ebb3d4cbee8f076fa6705b1696b2317fa8d050207868f32c02da2&slot=0',\n '/adredir?ad_business_id=tXWkZsgqEnAGhMJNquO7jQ&campaign_id=d3pLjUZg8X8mvCkOpi8aSw&click_origin=search_results&placement=above_search&placement_slot=0&redirect_url=https%3A%2F%2Fwww.yelp.com%2Fbiz%2Fdunkin-new-york-131&request_id=39e932a0f32e6fe6&signature=08630e62047ebb3d4cbee8f076fa6705b1696b2317fa8d050207868f32c02da2&slot=0',\n '/adredir?ad_business_id=tXWkZsgqEnAGhMJNquO7jQ&campaign_id=d3pLjUZg8X8mvCkOpi8aSw&click_origin=search_results&placement=above_search&placement_slot=0&redirect_url=https%3A%2F%2Fwww.yelp.com%2Fbiz%2Fdunkin-new-york-131&request_id=39e932a0f32e6fe6&signature=08630e62047ebb3d4cbee8f076fa6705b1696b2317fa8d050207868f32c02da2&slot=0',\n '/adredir?ad_business_id=tXWkZsgqEnAGhMJNquO7jQ&campaign_id=d3pLjUZg8X8mvCkOpi8aSw&click_origin=search_results&placement=above_search&placement_slot=0&redirect_url=https%3A%2F%2Fwww.yelp.com%2Fbiz%2Fdunkin-new-york-131&request_id=39e932a0f32e6fe6&signature=08630e62047ebb3d4cbee8f076fa6705b1696b2317fa8d050207868f32c02da2&slot=0',\n '/adredir?ad_business_id=tXWkZsgqEnAGhMJNquO7jQ&campaign_id=d3pLjUZg8X8mvCkOpi8aSw&click_origin=search_results&placement=above_search&placement_slot=0&redirect_url=https%3A%2F%2Fwww.yelp.com%2Fbiz%2Fdunkin-new-york-131&request_id=39e932a0f32e6fe6&signature=08630e62047ebb3d4cbee8f076fa6705b1696b2317fa8d050207868f32c02da2&slot=0',\n '/adredir?ad_business_id=tXWkZsgqEnAGhMJNquO7jQ&campaign_id=d3pLjUZg8X8mvCkOpi8aSw&click_origin=search_results&placement=above_search&placement_slot=0&redirect_url=https%3A%2F%2Fwww.yelp.com%2Fbiz%2Fdunkin-new-york-131&request_id=39e932a0f32e6fe6&signature=08630e62047ebb3d4cbee8f076fa6705b1696b2317fa8d050207868f32c02da2&slot=0',\n '/biz/dunkin-new-york-128?osq=Dunkin%27',\n '/biz/dunkin-new-york-128?osq=Dunkin%27',\n '/biz/dunkin-new-york-128?osq=Dunkin%27',\n '/biz/dunkin-new-york-128?osq=Dunkin%27',\n '/biz/dunkin-new-york-128?osq=Dunkin%27',\n '/biz/dunkin-new-york-128?osq=Dunkin%27',\n '/biz/dunkin-new-york-128?osq=Dunkin%27',\n '/biz/dunkin-new-york-128?osq=Dunkin%27',\n '/biz/dunkin-new-york-128?osq=Dunkin%27',\n '/biz/dunkin-new-york-128?osq=Dunkin%27',\n '/biz/dunkin-new-york-128?osq=Dunkin%27',\n '/biz/dunkin-new-york-128?osq=Dunkin%27',\n '/biz/dunkin-new-york-128?osq=Dunkin%27',\n '/biz/dunkin-new-york-128?osq=Dunkin%27',\n '/biz/dunkin-new-york-128?osq=Dunkin%27',\n '/biz/dunkin-new-york-128?osq=Dunkin%27',\n '/biz/dunkin-new-york-128?osq=Dunkin%27',\n '/biz/dunkin-new-york-34?osq=Dunkin%27',\n '/biz/dunkin-new-york-34?osq=Dunkin%27',\n '/biz/dunkin-new-york-34?osq=Dunkin%27',\n '/biz/dunkin-new-york-34?osq=Dunkin%27',\n '/biz/dunkin-new-york-34?osq=Dunkin%27',\n '/biz/dunkin-new-york-34?osq=Dunkin%27',\n '/biz/dunkin-new-york-34?osq=Dunkin%27',\n '/biz/dunkin-new-york-34?osq=Dunkin%27',\n '/biz/dunkin-new-york-34?osq=Dunkin%27',\n '/biz/dunkin-new-york-34?osq=Dunkin%27',\n '/biz/dunkin-new-york-34?osq=Dunkin%27',\n '/biz/dunkin-new-york-34?osq=Dunkin%27',\n '/biz/dunkin-new-york-34?osq=Dunkin%27',\n '/biz/dunkin-new-york-34?osq=Dunkin%27',\n '/biz/dunkin-new-york-34?osq=Dunkin%27',\n '/biz/dunkin-new-york-34?osq=Dunkin%27',\n '/biz/dunkin-new-york-34?osq=Dunkin%27',\n '/biz/dunkin-new-york-34?osq=Dunkin%27',\n '/biz/dunkin-new-york-34?osq=Dunkin%27',\n '/biz/dunkin-new-york-34?osq=Dunkin%27',\n '/biz/dunkin-new-york-34?osq=Dunkin%27',\n '/biz/dunkin-new-york-34?osq=Dunkin%27',\n '/biz/dunkin-new-york-34?osq=Dunkin%27',\n '/biz/dunkin-new-york-34?osq=Dunkin%27',\n '/biz/dunkin-new-york-34?osq=Dunkin%27',\n '/biz/dunkin-brooklyn-29?osq=Dunkin%27',\n '/biz/dunkin-brooklyn-29?osq=Dunkin%27',\n '/biz/dunkin-brooklyn-29?osq=Dunkin%27',\n '/biz/dunkin-brooklyn-29?osq=Dunkin%27',\n '/biz/dunkin-long-island-city-14?osq=Dunkin%27',\n '/biz/dunkin-long-island-city-14?osq=Dunkin%27',\n '/biz/dunkin-long-island-city-14?osq=Dunkin%27',\n '/biz/dunkin-long-island-city-14?osq=Dunkin%27',\n '/biz/dunkin-long-island-city-14?osq=Dunkin%27',\n '/biz/dunkin-long-island-city-14?osq=Dunkin%27',\n '/biz/dunkin-long-island-city-14?osq=Dunkin%27',\n '/biz/dunkin-long-island-city-14?osq=Dunkin%27',\n '/biz/dunkin-long-island-city-14?osq=Dunkin%27',\n '/biz/dunkin-long-island-city-14?osq=Dunkin%27',\n '/biz/dunkin-long-island-city-14?osq=Dunkin%27',\n '/biz/dunkin-brooklyn-40?osq=Dunkin%27',\n '/biz/dunkin-brooklyn-40?osq=Dunkin%27',\n '/biz/dunkin-brooklyn-40?osq=Dunkin%27',\n '/biz/dunkin-brooklyn-40?osq=Dunkin%27',\n '/biz/dunkin-brooklyn-40?osq=Dunkin%27',\n '/biz/dunkin-brooklyn-40?osq=Dunkin%27',\n '/biz/dunkin-brooklyn-40?osq=Dunkin%27',\n '/biz/dunkin-brooklyn-40?osq=Dunkin%27',\n '/biz/dunkin-brooklyn-40?osq=Dunkin%27',\n '/biz/dunkin-brooklyn-40?osq=Dunkin%27',\n '/biz/dunkin-brooklyn-40?osq=Dunkin%27',\n '/biz/dunkin-brooklyn-40?osq=Dunkin%27',\n '/biz/dunkin-brooklyn-40?osq=Dunkin%27',\n '/biz/dunkin-brooklyn-40?osq=Dunkin%27',\n '/biz/dunkin-brooklyn-40?osq=Dunkin%27',\n '/biz/dunkin-brooklyn-40?osq=Dunkin%27',\n '/biz/dunkin-brooklyn-40?osq=Dunkin%27',\n '/biz/dunkin-brooklyn-40?osq=Dunkin%27',\n '/biz/dunkin-brooklyn-40?osq=Dunkin%27',\n '/biz/dunkin-brooklyn-40?osq=Dunkin%27',\n '/biz/dunkin-brooklyn-40?osq=Dunkin%27',\n '/biz/dunkin-brooklyn-40?osq=Dunkin%27',\n '/biz/dunkin-brooklyn-40?osq=Dunkin%27',\n '/biz/dunkin-brooklyn-40?osq=Dunkin%27',\n '/biz/dunkin-brooklyn-14?osq=Dunkin%27',\n '/biz/dunkin-brooklyn-14?osq=Dunkin%27',\n '/biz/dunkin-brooklyn-14?osq=Dunkin%27',\n '/biz/dunkin-brooklyn-14?osq=Dunkin%27',\n '/biz/dunkin-brooklyn-14?osq=Dunkin%27',\n '/biz/dunkin-brooklyn-14?osq=Dunkin%27',\n '/biz/dunkin-brooklyn-14?osq=Dunkin%27',\n '/biz/dunkin-brooklyn-14?osq=Dunkin%27',\n '/biz/dunkin-brooklyn-14?osq=Dunkin%27',\n '/biz/dunkin-brooklyn-14?osq=Dunkin%27',\n '/biz/dunkin-new-york-84?osq=Dunkin%27',\n '/biz/dunkin-new-york-84?osq=Dunkin%27',\n '/biz/dunkin-new-york-84?osq=Dunkin%27',\n '/biz/dunkin-new-york-84?osq=Dunkin%27',\n '/biz/dunkin-new-york-84?osq=Dunkin%27',\n '/biz/dunkin-new-york-84?osq=Dunkin%27',\n '/biz/dunkin-new-york-84?osq=Dunkin%27',\n '/biz/dunkin-new-york-84?osq=Dunkin%27',\n '/biz/dunkin-new-york-84?osq=Dunkin%27',\n '/biz/dunkin-new-york-84?osq=Dunkin%27',\n '/biz/dunkin-new-york-84?osq=Dunkin%27',\n '/biz/dunkin-new-york-84?osq=Dunkin%27',\n '/biz/dunkin-new-york-84?osq=Dunkin%27',\n '/biz/dunkin-new-york-84?osq=Dunkin%27',\n '/biz/dunkin-new-york-84?osq=Dunkin%27',\n '/biz/dunkin-new-york-84?osq=Dunkin%27',\n '/biz/dunkin-new-york-84?osq=Dunkin%27',\n '/biz/dunkin-new-york-84?osq=Dunkin%27',\n '/biz/dunkin-new-york-84?osq=Dunkin%27',\n '/biz/dunkin-new-york-84?osq=Dunkin%27',\n '/biz/dunkin-new-york-84?osq=Dunkin%27',\n '/biz/dunkin-new-york-84?osq=Dunkin%27',\n '/biz/dunkin-new-york-84?osq=Dunkin%27',\n '/biz/dunkin-new-york-84?osq=Dunkin%27',\n '/biz/dunkin-new-york-84?osq=Dunkin%27',\n '/biz/dunkin-new-york-84?osq=Dunkin%27',\n '/biz/dunkin-new-york-84?osq=Dunkin%27',\n '/biz/dunkin-new-york-84?osq=Dunkin%27',\n '/biz/dunkin-long-island-city-11?osq=Dunkin%27',\n '/biz/dunkin-long-island-city-11?osq=Dunkin%27',\n '/biz/dunkin-long-island-city-11?osq=Dunkin%27',\n '/biz/dunkin-long-island-city-11?osq=Dunkin%27',\n '/biz/dunkin-long-island-city-11?osq=Dunkin%27',\n '/biz/dunkin-long-island-city-11?osq=Dunkin%27',\n '/biz/dunkin-long-island-city-11?osq=Dunkin%27',\n '/biz/dunkin-long-island-city-11?osq=Dunkin%27',\n '/biz/dunkin-long-island-city-11?osq=Dunkin%27',\n '/biz/dunkin-long-island-city-11?osq=Dunkin%27',\n '/biz/dunkin-long-island-city-11?osq=Dunkin%27',\n '/biz/dunkin-long-island-city-11?osq=Dunkin%27',\n '/biz/dunkin-long-island-city-11?osq=Dunkin%27',\n '/biz/dunkin-long-island-city-11?osq=Dunkin%27',\n '/biz/dunkin-long-island-city-11?osq=Dunkin%27',\n '/biz/dunkin-long-island-city-11?osq=Dunkin%27',\n '/biz/dunkin-long-island-city-11?osq=Dunkin%27',\n '/biz/dunkin-long-island-city-11?osq=Dunkin%27',\n '/biz/dunkin-long-island-city-11?osq=Dunkin%27',\n '/biz/dunkin-long-island-city-11?osq=Dunkin%27',\n '/biz/dunkin-long-island-city-11?osq=Dunkin%27',\n '/biz/dunkin-long-island-city-11?osq=Dunkin%27',\n '/biz/dunkin-long-island-city-11?osq=Dunkin%27',\n '/biz/dunkin-long-island-city-11?osq=Dunkin%27',\n '/biz/dunkin-long-island-city-11?osq=Dunkin%27',\n '/biz/dunkin-long-island-city-11?osq=Dunkin%27',\n '/biz/dunkin-long-island-city-11?osq=Dunkin%27',\n '/biz/dunkin-long-island-city-11?osq=Dunkin%27',\n '/biz/dunkin-long-island-city-11?osq=Dunkin%27',\n '/biz/dunkin-long-island-city-11?osq=Dunkin%27',\n '/biz/dunkin-long-island-city-11?osq=Dunkin%27',\n '/biz/dunkin-long-island-city-11?osq=Dunkin%27',\n '/biz/dunkin-long-island-city-11?osq=Dunkin%27',\n '/biz/dunkin-long-island-city-11?osq=Dunkin%27',\n '/biz/dunkin-long-island-city-11?osq=Dunkin%27',\n '/biz/dunkin-long-island-city-11?osq=Dunkin%27',\n '/biz/dunkin-new-york-138?osq=Dunkin%27',\n '/biz/dunkin-new-york-138?osq=Dunkin%27',\n '/biz/dunkin-new-york-138?osq=Dunkin%27',\n '/biz/dunkin-new-york-138?osq=Dunkin%27',\n '/biz/dunkin-new-york-138?osq=Dunkin%27',\n '/biz/dunkin-new-york-138?osq=Dunkin%27',\n '/biz/dunkin-new-york-138?osq=Dunkin%27',\n '/biz/dunkin-new-york-138?osq=Dunkin%27',\n '/biz/dunkin-new-york-138?osq=Dunkin%27',\n '/biz/dunkin-new-york-138?osq=Dunkin%27',\n '/biz/dunkin-new-york-138?osq=Dunkin%27',\n '/biz/dunkin-new-york-138?osq=Dunkin%27',\n '/biz/dunkin-new-york-138?osq=Dunkin%27',\n '/biz/dunkin-new-york-138?osq=Dunkin%27',\n '/biz/dunkin-new-york-138?osq=Dunkin%27',\n '/biz/dunkin-new-york-138?osq=Dunkin%27',\n '/biz/dunkin-new-york-138?osq=Dunkin%27',\n '/biz/dunkin-new-york-138?osq=Dunkin%27',\n '/biz/dunkin-new-york-138?osq=Dunkin%27',\n '/biz/dunkin-new-york-138?osq=Dunkin%27',\n '/biz/dunkin-new-york-138?osq=Dunkin%27',\n '/biz/dunkin-new-york-138?osq=Dunkin%27',\n '/biz/dunkin-new-york-138?osq=Dunkin%27',\n '/biz/dunkin-new-york-138?osq=Dunkin%27',\n '/biz/dunkin-new-york-138?osq=Dunkin%27',\n '/biz/dunkin-new-york-138?osq=Dunkin%27',\n '/biz/dunkin-new-york-138?osq=Dunkin%27',\n '/biz/dunkin-new-york-138?osq=Dunkin%27',\n ...]"
     },
     "execution_count": 16,
     "metadata": {},
     "output_type": "execute_result"
    }
   ],
   "source": [
    "df_grid"
   ]
  },
  {
   "cell_type": "markdown",
   "metadata": {},
   "source": [
    "#### Export data"
   ]
  },
  {
   "cell_type": "code",
   "execution_count": 13,
   "metadata": {},
   "outputs": [],
   "source": [
    "if os.path.exists(RESULT_FILE):\n",
    "\n",
    "    df_existing_data = pd.read_csv(RESULT_PATH, sep=\";\", decimal=\",\", header=0)\n",
    "    df_existing_data = df_existing_data.append(df_grid)\n",
    "    df_existing_data.drop_duplicates(inplace = True)\n",
    "    df_existing_data.to_csv(RESULT_FILE, index = False, sep=\";\", decimal=\",\")\n",
    "\n",
    "else:\n",
    "    \n",
    "    df_grid.to_csv(RESULT_FILE, index = False, sep=\";\", decimal=\",\")"
   ]
  },
  {
   "cell_type": "code",
   "execution_count": null,
   "metadata": {},
   "outputs": [],
   "source": []
  }
 ],
 "metadata": {
  "kernelspec": {
   "display_name": "Python 3",
   "language": "python",
   "name": "python3"
  },
  "language_info": {
   "codemirror_mode": {
    "name": "ipython",
    "version": 3
   },
   "file_extension": ".py",
   "mimetype": "text/x-python",
   "name": "python",
   "nbconvert_exporter": "python",
   "pygments_lexer": "ipython3",
   "version": "3.9.7"
  }
 },
 "nbformat": 4,
 "nbformat_minor": 2
}